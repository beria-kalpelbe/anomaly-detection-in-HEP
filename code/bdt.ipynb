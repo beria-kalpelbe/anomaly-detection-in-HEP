{
 "cells": [
  {
   "cell_type": "code",
   "execution_count": null,
   "metadata": {},
   "outputs": [],
   "source": [
    "from preprocessing.dataset import dataset\n",
    "from torch.utils.data import DataLoader\n",
    "from training.trainer import trainer\n",
    "from models.vae import VAE\n",
    "from models.ode import ode\n",
    "from evaluation.evaluator import evaluator\n",
    "import torch.optim as optim\n",
    "from sklearn.model_selection import train_test_split\n",
    "import json\n",
    "import torch\n",
    "import os\n",
    "import sys\n",
    "from copy import copy\n",
    "from torchsummary import summary\n",
    "from sklearn.tree import DecisionTreeClassifier\n",
    "from sklearn.metrics import accuracy_score"
   ]
  },
  {
   "cell_type": "code",
   "execution_count": null,
   "metadata": {},
   "outputs": [],
   "source": [
    "data = dataset(data_file='QCD_LLP_samples/root-files/qcd_100k.root',\n",
    "                    sg_files=['QCD_LLP_samples/h5-files/500GeV_n3_events_100k_1mm_pileup.h5', 'QCD_LLP_samples/h5-files/100GeV_n3_events_100k_1mm_pileup.h5'],\n",
    "                    bkg_files=['QCD_LLP_samples/h5-files/QCD_multijet_events_200k_pileup.h5'])\n",
    "  \n",
    "with open('code/utils/hyperparameters.json') as f:\n",
    "        hyperparameters = json.load(f)"
   ]
  },
  {
   "cell_type": "code",
   "execution_count": null,
   "metadata": {},
   "outputs": [],
   "source": [
    "BATCH_SIZE = hyperparameters['BATCH_SIZE']\n",
    "lr = hyperparameters['LEARNING_RATE']\n",
    "num_epochs = hyperparameters['EPOCHS']\n",
    "latent_dim = hyperparameters['LATENT_DIM']\n",
    "    \n",
    "train_loader = DataLoader(torch.tensor(data.data_train, dtype=torch.float32), batch_size=BATCH_SIZE, shuffle=True, num_workers=10)\n",
    "valid_loader = DataLoader(torch.tensor(data.data_valid,dtype=torch.float32), batch_size=BATCH_SIZE, shuffle=True, num_workers=10)"
   ]
  },
  {
   "cell_type": "code",
   "execution_count": null,
   "metadata": {},
   "outputs": [],
   "source": [
    "bdt_model = DecisionTreeClassifier(random_state=0)\n",
    "bdt_model.fit(data.data_train, data.labels_train)"
   ]
  },
  {
   "cell_type": "code",
   "execution_count": null,
   "metadata": {},
   "outputs": [],
   "source": [
    "bdt_evaluator = evaluator(model=bdt_model, test_data=data.data_test, labels=data.labels_test)\n",
    "bdt_evaluator.roc_curve()\n",
    "bdt_evaluator.confusion_matrix()\n",
    "bdt_evaluator.classification_report()"
   ]
  }
 ],
 "metadata": {
  "language_info": {
   "name": "python"
  }
 },
 "nbformat": 4,
 "nbformat_minor": 2
}
