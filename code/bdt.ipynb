{
  "cells": [
    {
      "cell_type": "code",
      "source": [
        "import os\n",
        "\n",
        "# Define your workspace directory\n",
        "workspace_dir = '/content/anomaly-detection-in-HEP/code/'\n",
        "\n",
        "# Create the directory if it doesn't exist\n",
        "if not os.path.exists(workspace_dir):\n",
        "    os.makedirs(workspace_dir)\n",
        "\n",
        "# Change the current working directory to your workspace directory\n",
        "os.chdir(workspace_dir)\n",
        "\n",
        "# Verify the current working directory\n",
        "print('Current working directory:', os.getcwd())\n"
      ],
      "metadata": {
        "colab": {
          "base_uri": "https://localhost:8080/"
        },
        "id": "mgyhjKooAGDm",
        "outputId": "aed9b4dc-dbbc-4fe8-c0f8-2b8855f9c667"
      },
      "execution_count": null,
      "outputs": [
        {
          "output_type": "stream",
          "name": "stdout",
          "text": [
            "Current working directory: /content/anomaly-detection-in-HEP/code\n"
          ]
        }
      ]
    },
    {
      "cell_type": "code",
      "source": [
        "from preprocessing.dataset import dataset\n",
        "from torch.utils.data import DataLoader\n",
        "# from training.trainer import trainer\n",
        "# from models.vae import VAE\n",
        "from models.ode import ode\n",
        "# from evaluation.evaluator import evaluator\n",
        "import torch.optim as optim\n",
        "from sklearn.model_selection import train_test_split\n",
        "import json\n",
        "import torch\n",
        "import os\n",
        "import sys\n",
        "from copy import copy\n",
        "from torchsummary import summary\n",
        "from sklearn.tree import DecisionTreeClassifier\n",
        "from sklearn.metrics import accuracy_score"
      ],
      "metadata": {
        "id": "sMurCdHJAI7-"
      },
      "execution_count": null,
      "outputs": []
    },
    {
      "cell_type": "markdown",
      "source": [
        "## Background data"
      ],
      "metadata": {
        "id": "6MyJV60oV2ig"
      }
    },
    {
      "cell_type": "code",
      "source": [
        "from google.cloud import storage\n",
        "from io import BytesIO\n",
        "import uproot\n",
        "\n",
        "def get_data_from_root(file_dir:str, bucket_name:str = 'cuda-programming-406720'):\n",
        "        client = storage.Client()\n",
        "        bucket = client.get_bucket(bucket_name)\n",
        "        blob = bucket.blob(file_dir)\n",
        "        file_contents = BytesIO(blob.download_as_string())\n",
        "        tree = uproot.open(file_contents)\n",
        "        data = tree['Delphes']\n",
        "        return data\n",
        "\n",
        "data_file = 'QCD_LLP_samples/root-files/qcd_100k.root'\n",
        "data = get_data_from_root(data_file)\n",
        "features = ['Track.PT', 'Track.Eta', 'Track.Phi', 'Track.D0', 'Track.DZ']"
      ],
      "metadata": {
        "id": "kP64PiDMVUVY"
      },
      "execution_count": null,
      "outputs": []
    },
    {
      "cell_type": "code",
      "source": [
        "from itertools import chain\n",
        "import numpy as np\n",
        "from matplotlib import pyplot as plt\n",
        "import seaborn as sns\n",
        "\n",
        "data_train = []\n",
        "data_test = []\n",
        "for i in range(5):\n",
        "  d = data['Track'][features[i]].array().tolist()\n",
        "  d = list(chain.from_iterable(d))\n",
        "  data_train.append(d[:20_000])\n",
        "  data_test.append(d[20_000:21_000])\n",
        "data_bkg_train = torch.tensor(data_train).T\n",
        "data_bkg_test = torch.tensor(data_test).T"
      ],
      "metadata": {
        "id": "SpfrDzH2Vg5p"
      },
      "execution_count": null,
      "outputs": []
    },
    {
      "cell_type": "code",
      "source": [
        "# means = data_bkg_train.mean(dim=0)\n",
        "# stds = data_bkg_train.std(dim=0)\n",
        "\n",
        "# data_bkg_train = (data_bkg_train - means) / stds\n",
        "# data_bkg_test =(data_bkg_test - means) / stds\n",
        "print(\"Train shape:\", data_bkg_train.shape)\n",
        "print(\"Test shape:\", data_bkg_test.shape)"
      ],
      "metadata": {
        "colab": {
          "base_uri": "https://localhost:8080/"
        },
        "id": "7vS44wutkpLF",
        "outputId": "01c423b7-f7d0-44e3-defd-1389f55306e6"
      },
      "execution_count": null,
      "outputs": [
        {
          "output_type": "stream",
          "name": "stdout",
          "text": [
            "Train shape: torch.Size([20000, 5])\n",
            "Test shape: torch.Size([1000, 5])\n"
          ]
        }
      ]
    },
    {
      "cell_type": "markdown",
      "source": [
        "## Signal data"
      ],
      "metadata": {
        "id": "Azoegak2V513"
      }
    },
    {
      "cell_type": "code",
      "source": [
        "import h5py\n",
        "def get_data_from_h5(file_dir:str, bucket_name:str = 'cuda-programming-406720'):\n",
        "        client = storage.Client()\n",
        "        bucket = client.get_bucket(bucket_name)\n",
        "        blob = bucket.blob(file_dir)\n",
        "        file_contents = BytesIO(blob.download_as_string())\n",
        "        with h5py.File(file_contents, 'r') as f:\n",
        "            dataset = f['Track']\n",
        "            data = dataset[:10_000]\n",
        "            d1 = dataset[:10_000]\n",
        "            d2 = dataset[10_000:10_500]\n",
        "        return d1, d2"
      ],
      "metadata": {
        "id": "IcEmF7waV7T4"
      },
      "execution_count": null,
      "outputs": []
    },
    {
      "cell_type": "code",
      "source": [
        "sig1_train, sig1_test = get_data_from_h5('QCD_LLP_samples/h5-files/500GeV_n3_events_100k_1mm_pileup.h5')\n",
        "sig2_train, sig2_test = get_data_from_h5('QCD_LLP_samples/h5-files/100GeV_n3_events_100k_1mm_pileup.h5')"
      ],
      "metadata": {
        "id": "XbOyxMuZZE_0"
      },
      "execution_count": null,
      "outputs": []
    },
    {
      "cell_type": "code",
      "source": [
        "data_sig_train = np.concatenate((sig1_train,sig2_train))\n",
        "data_sig_test = np.concatenate((sig1_test,sig2_test))"
      ],
      "metadata": {
        "id": "TjrdapG4ZZx4"
      },
      "execution_count": null,
      "outputs": []
    },
    {
      "cell_type": "code",
      "source": [
        "data_sig_train = torch.tensor([list(data_sig_train[i]) for i in range(data_sig_train.shape[0])])\n",
        "data_sig_test = torch.tensor([list(data_sig_test[i]) for i in range(data_sig_test.shape[0])])"
      ],
      "metadata": {
        "id": "laaZB3YUaXoq"
      },
      "execution_count": null,
      "outputs": []
    },
    {
      "cell_type": "code",
      "source": [
        "# data_sig_train = (data_sig_train - means) / stds\n",
        "# data_sig_test =(data_sig_test - means) / stds\n",
        "\n",
        "print(\"Train shape:\", data_sig_train.shape)\n",
        "print(\"Test shape:\", data_sig_test.shape)"
      ],
      "metadata": {
        "colab": {
          "base_uri": "https://localhost:8080/"
        },
        "id": "g94g-bb1kSaE",
        "outputId": "f3216c69-8565-49c7-a3ac-ed8b83eea0b3"
      },
      "execution_count": null,
      "outputs": [
        {
          "output_type": "stream",
          "name": "stdout",
          "text": [
            "Train shape: torch.Size([20000, 5])\n",
            "Test shape: torch.Size([1000, 5])\n"
          ]
        }
      ]
    },
    {
      "cell_type": "markdown",
      "source": [
        "## BDT"
      ],
      "metadata": {
        "id": "HzffLWeMxG7H"
      }
    },
    {
      "cell_type": "code",
      "source": [
        "data_train = torch.concatenate((data_sig_train, data_bkg_train))\n",
        "labels_train = torch.concatenate((torch.ones((data_sig_train.shape[0])), torch.zeros((data_bkg_train.shape[0]))))"
      ],
      "metadata": {
        "id": "fB7Qsoc-xlMk"
      },
      "execution_count": null,
      "outputs": []
    },
    {
      "cell_type": "code",
      "source": [
        "data_train = data_train.detach().numpy()\n",
        "labels_train = labels_train.detach().numpy()"
      ],
      "metadata": {
        "id": "B58juyY5zQKv"
      },
      "execution_count": null,
      "outputs": []
    },
    {
      "cell_type": "code",
      "source": [
        "from sklearn.tree import DecisionTreeClassifier\n",
        "from sklearn.svm import SVC\n",
        "from sklearn.metrics import accuracy_score\n",
        "\n",
        "# bdt_model = SVC(kernel='rbf')\n",
        "bdt_model = DecisionTreeClassifier(random_state=40)\n",
        "bdt_model.fit(data_train, labels_train)"
      ],
      "metadata": {
        "colab": {
          "base_uri": "https://localhost:8080/",
          "height": 75
        },
        "id": "WPb9ACd3xGZP",
        "outputId": "04289f74-1fcd-43b8-9093-c63c2dd5a0a3"
      },
      "execution_count": null,
      "outputs": [
        {
          "output_type": "execute_result",
          "data": {
            "text/plain": [
              "DecisionTreeClassifier(random_state=40)"
            ],
            "text/html": [
              "<style>#sk-container-id-7 {color: black;background-color: white;}#sk-container-id-7 pre{padding: 0;}#sk-container-id-7 div.sk-toggleable {background-color: white;}#sk-container-id-7 label.sk-toggleable__label {cursor: pointer;display: block;width: 100%;margin-bottom: 0;padding: 0.3em;box-sizing: border-box;text-align: center;}#sk-container-id-7 label.sk-toggleable__label-arrow:before {content: \"▸\";float: left;margin-right: 0.25em;color: #696969;}#sk-container-id-7 label.sk-toggleable__label-arrow:hover:before {color: black;}#sk-container-id-7 div.sk-estimator:hover label.sk-toggleable__label-arrow:before {color: black;}#sk-container-id-7 div.sk-toggleable__content {max-height: 0;max-width: 0;overflow: hidden;text-align: left;background-color: #f0f8ff;}#sk-container-id-7 div.sk-toggleable__content pre {margin: 0.2em;color: black;border-radius: 0.25em;background-color: #f0f8ff;}#sk-container-id-7 input.sk-toggleable__control:checked~div.sk-toggleable__content {max-height: 200px;max-width: 100%;overflow: auto;}#sk-container-id-7 input.sk-toggleable__control:checked~label.sk-toggleable__label-arrow:before {content: \"▾\";}#sk-container-id-7 div.sk-estimator input.sk-toggleable__control:checked~label.sk-toggleable__label {background-color: #d4ebff;}#sk-container-id-7 div.sk-label input.sk-toggleable__control:checked~label.sk-toggleable__label {background-color: #d4ebff;}#sk-container-id-7 input.sk-hidden--visually {border: 0;clip: rect(1px 1px 1px 1px);clip: rect(1px, 1px, 1px, 1px);height: 1px;margin: -1px;overflow: hidden;padding: 0;position: absolute;width: 1px;}#sk-container-id-7 div.sk-estimator {font-family: monospace;background-color: #f0f8ff;border: 1px dotted black;border-radius: 0.25em;box-sizing: border-box;margin-bottom: 0.5em;}#sk-container-id-7 div.sk-estimator:hover {background-color: #d4ebff;}#sk-container-id-7 div.sk-parallel-item::after {content: \"\";width: 100%;border-bottom: 1px solid gray;flex-grow: 1;}#sk-container-id-7 div.sk-label:hover label.sk-toggleable__label {background-color: #d4ebff;}#sk-container-id-7 div.sk-serial::before {content: \"\";position: absolute;border-left: 1px solid gray;box-sizing: border-box;top: 0;bottom: 0;left: 50%;z-index: 0;}#sk-container-id-7 div.sk-serial {display: flex;flex-direction: column;align-items: center;background-color: white;padding-right: 0.2em;padding-left: 0.2em;position: relative;}#sk-container-id-7 div.sk-item {position: relative;z-index: 1;}#sk-container-id-7 div.sk-parallel {display: flex;align-items: stretch;justify-content: center;background-color: white;position: relative;}#sk-container-id-7 div.sk-item::before, #sk-container-id-7 div.sk-parallel-item::before {content: \"\";position: absolute;border-left: 1px solid gray;box-sizing: border-box;top: 0;bottom: 0;left: 50%;z-index: -1;}#sk-container-id-7 div.sk-parallel-item {display: flex;flex-direction: column;z-index: 1;position: relative;background-color: white;}#sk-container-id-7 div.sk-parallel-item:first-child::after {align-self: flex-end;width: 50%;}#sk-container-id-7 div.sk-parallel-item:last-child::after {align-self: flex-start;width: 50%;}#sk-container-id-7 div.sk-parallel-item:only-child::after {width: 0;}#sk-container-id-7 div.sk-dashed-wrapped {border: 1px dashed gray;margin: 0 0.4em 0.5em 0.4em;box-sizing: border-box;padding-bottom: 0.4em;background-color: white;}#sk-container-id-7 div.sk-label label {font-family: monospace;font-weight: bold;display: inline-block;line-height: 1.2em;}#sk-container-id-7 div.sk-label-container {text-align: center;}#sk-container-id-7 div.sk-container {/* jupyter's `normalize.less` sets `[hidden] { display: none; }` but bootstrap.min.css set `[hidden] { display: none !important; }` so we also need the `!important` here to be able to override the default hidden behavior on the sphinx rendered scikit-learn.org. See: https://github.com/scikit-learn/scikit-learn/issues/21755 */display: inline-block !important;position: relative;}#sk-container-id-7 div.sk-text-repr-fallback {display: none;}</style><div id=\"sk-container-id-7\" class=\"sk-top-container\"><div class=\"sk-text-repr-fallback\"><pre>DecisionTreeClassifier(random_state=40)</pre><b>In a Jupyter environment, please rerun this cell to show the HTML representation or trust the notebook. <br />On GitHub, the HTML representation is unable to render, please try loading this page with nbviewer.org.</b></div><div class=\"sk-container\" hidden><div class=\"sk-item\"><div class=\"sk-estimator sk-toggleable\"><input class=\"sk-toggleable__control sk-hidden--visually\" id=\"sk-estimator-id-7\" type=\"checkbox\" checked><label for=\"sk-estimator-id-7\" class=\"sk-toggleable__label sk-toggleable__label-arrow\">DecisionTreeClassifier</label><div class=\"sk-toggleable__content\"><pre>DecisionTreeClassifier(random_state=40)</pre></div></div></div></div></div>"
            ]
          },
          "metadata": {},
          "execution_count": 37
        }
      ]
    },
    {
      "cell_type": "code",
      "source": [
        "data_test = torch.concatenate((data_sig_test, data_bkg_test))\n",
        "labels_test = torch.concatenate((torch.ones((data_sig_test.shape[0])), torch.zeros((data_bkg_test.shape[0]))))"
      ],
      "metadata": {
        "id": "_oK18fAGy1p3"
      },
      "execution_count": null,
      "outputs": []
    },
    {
      "cell_type": "code",
      "source": [
        "data_test = data_test.detach().numpy()\n",
        "labels_test = labels_test.detach().numpy()"
      ],
      "metadata": {
        "id": "JPOyjRFVzZyz"
      },
      "execution_count": null,
      "outputs": []
    },
    {
      "cell_type": "code",
      "source": [
        "from sklearn.metrics import roc_curve, roc_auc_score, confusion_matrix, accuracy_score\n",
        "\n",
        "probs = bdt_model.predict_proba(data_test)\n",
        "fpr, tpr, thresholds = roc_curve(labels_test, probs[:,1])\n",
        "roc_auc = roc_auc_score(labels_test, probs[:,1])\n",
        "plt.plot(fpr, tpr)\n",
        "plt.title('ROC curve (AUC = %0.2f)' % roc_auc)\n",
        "plt.xlabel('False Positive Rate')\n",
        "plt.ylabel('True Positive Rate')\n",
        "# plt.savefig(f'docs/roc-curve-{type_model}.pdf', format='pdf')\n",
        "plt.show()"
      ],
      "metadata": {
        "colab": {
          "base_uri": "https://localhost:8080/",
          "height": 472
        },
        "id": "f1Wg5VQKyegl",
        "outputId": "e2d34ad1-b46c-4d69-bd89-545dcc404f16"
      },
      "execution_count": null,
      "outputs": [
        {
          "output_type": "display_data",
          "data": {
            "text/plain": [
              "<Figure size 640x480 with 1 Axes>"
            ],
            "image/png": "[encoded data removed]"
          },
          "metadata": {}
        }
      ]
    },
    {
      "cell_type": "code",
      "source": [
        "y_pred = bdt_model.predict(data_test)\n",
        "cm = confusion_matrix(labels_test, y_pred)\n",
        "accuracy = accuracy_score(labels_test, y_pred)*100\n",
        "plt.figure(figsize=(8,6))\n",
        "sns.heatmap(cm, annot=True, fmt=\"d\", cmap=\"Blues\", xticklabels=[\"Background\", \"Signal\"], yticklabels=[\"Background\", \"Signal\"])\n",
        "plt.xlabel(\"Predicted labels\")\n",
        "plt.ylabel(\"True labels\")\n",
        "plt.title(\"Confusion Matrix (Accuracy: {:.2f}%)\".format(accuracy))\n",
        "# plt.savefig(f'docs/cm-{type_model}.pdf', format='pdf')\n",
        "plt.show()"
      ],
      "metadata": {
        "colab": {
          "base_uri": "https://localhost:8080/",
          "height": 564
        },
        "id": "M9HprtBVzohf",
        "outputId": "1aca3b2b-4133-4fe1-df1d-da4bafa7ad9f"
      },
      "execution_count": null,
      "outputs": [
        {
          "output_type": "display_data",
          "data": {
            "text/plain": [
              "<Figure size 800x600 with 2 Axes>"
            ],
            "image/png": "[encoded data removed]"
          },
          "metadata": {}
        }
      ]
    },
    {
      "cell_type": "code",
      "source": [
        "from sklearn.metrics import classification_report\n",
        "\n",
        "y_pred = bdt_model.predict(data_test)\n",
        "report = classification_report(labels_test, y_pred)\n",
        "\n",
        "with open('bdt-classification_report.txt', 'w') as f:\n",
        "  f.write(report)\n",
        "\n",
        "print(report)"
      ],
      "metadata": {
        "colab": {
          "base_uri": "https://localhost:8080/"
        },
        "id": "Q6D9Bdzw0Nwe",
        "outputId": "d2eaf3ec-b326-408e-a2e4-9041252b6dc0"
      },
      "execution_count": null,
      "outputs": [
        {
          "output_type": "stream",
          "name": "stdout",
          "text": [
            "              precision    recall  f1-score   support\n",
            "\n",
            "         0.0       1.00      1.00      1.00      1000\n",
            "         1.0       1.00      1.00      1.00      1000\n",
            "\n",
            "    accuracy                           1.00      2000\n",
            "   macro avg       1.00      1.00      1.00      2000\n",
            "weighted avg       1.00      1.00      1.00      2000\n",
            "\n"
          ]
        }
      ]
    }
  ],
  "metadata": {
    "language_info": {
      "name": "python"
    },
    "colab": {
      "provenance": []
    },
    "kernelspec": {
      "name": "python3",
      "display_name": "Python 3"
    }
  },
  "nbformat": 4,
  "nbformat_minor": 0
}