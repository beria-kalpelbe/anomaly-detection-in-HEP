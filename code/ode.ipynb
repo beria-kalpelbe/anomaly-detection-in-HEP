{
  "cells": [
    {
      "cell_type": "code",
      "source": [
        "import os\n",
        "\n",
        "# Define your workspace directory\n",
        "workspace_dir = '/content/anomaly-detection-in-HEP/code/'\n",
        "\n",
        "# Create the directory if it doesn't exist\n",
        "if not os.path.exists(workspace_dir):\n",
        "    os.makedirs(workspace_dir)\n",
        "\n",
        "# Change the current working directory to your workspace directory\n",
        "os.chdir(workspace_dir)\n",
        "\n",
        "# Verify the current working directory\n",
        "print('Current working directory:', os.getcwd())\n"
      ],
      "metadata": {
        "colab": {
          "base_uri": "https://localhost:8080/"
        },
        "id": "dcj-PuYaUIPS",
        "outputId": "b6b8f0d0-531f-48a7-a1f9-e8c8ea16e906"
      },
      "execution_count": null,
      "outputs": [
        {
          "output_type": "stream",
          "name": "stdout",
          "text": [
            "Current working directory: /content/anomaly-detection-in-HEP/code\n"
          ]
        }
      ]
    },
    {
      "cell_type": "code",
      "execution_count": null,
      "metadata": {
        "id": "mhLjJWgBT8ao"
      },
      "outputs": [],
      "source": [
        "from preprocessing.dataset import dataset\n",
        "from torch.utils.data import DataLoader\n",
        "# from training.trainer import trainer\n",
        "# from models.vae import VAE\n",
        "from models.ode import ode\n",
        "# from evaluation.evaluator import evaluator\n",
        "import torch.optim as optim\n",
        "from sklearn.model_selection import train_test_split\n",
        "import json\n",
        "import torch\n",
        "import os\n",
        "import sys\n",
        "from copy import copy\n",
        "from torchsummary import summary\n",
        "from sklearn.tree import DecisionTreeClassifier\n",
        "from sklearn.metrics import accuracy_score"
      ]
    },
    {
      "cell_type": "markdown",
      "source": [
        "## Background data"
      ],
      "metadata": {
        "id": "6MyJV60oV2ig"
      }
    },
    {
      "cell_type": "code",
      "source": [
        "from google.cloud import storage\n",
        "from io import BytesIO\n",
        "import uproot\n",
        "\n",
        "def get_data_from_root(file_dir:str, bucket_name:str = 'cuda-programming-406720'):\n",
        "        client = storage.Client()\n",
        "        bucket = client.get_bucket(bucket_name)\n",
        "        blob = bucket.blob(file_dir)\n",
        "        file_contents = BytesIO(blob.download_as_string())\n",
        "        tree = uproot.open(file_contents)\n",
        "        data = tree['Delphes']\n",
        "        return data\n",
        "\n",
        "data_file = 'QCD_LLP_samples/root-files/qcd_100k.root'\n",
        "data = get_data_from_root(data_file)\n",
        "features = ['Track.PT', 'Track.Eta', 'Track.Phi', 'Track.D0', 'Track.DZ']"
      ],
      "metadata": {
        "id": "kP64PiDMVUVY"
      },
      "execution_count": null,
      "outputs": []
    },
    {
      "cell_type": "code",
      "source": [
        "from itertools import chain\n",
        "import numpy as np\n",
        "from matplotlib import pyplot as plt\n",
        "import seaborn as sns\n",
        "\n",
        "data_train = []\n",
        "data_test = []\n",
        "for i in range(5):\n",
        "  d = data['Track'][features[i]].array().tolist()\n",
        "  d = list(chain.from_iterable(d))\n",
        "  data_train.append(d[:20_000])\n",
        "  data_test.append(d[20_000:21_000])\n",
        "data_bkg_train = torch.tensor(data_train).T\n",
        "data_bkg_test = torch.tensor(data_test).T"
      ],
      "metadata": {
        "id": "SpfrDzH2Vg5p"
      },
      "execution_count": null,
      "outputs": []
    },
    {
      "cell_type": "code",
      "source": [
        "means = data_bkg_train.mean(dim=0)\n",
        "stds = data_bkg_train.std(dim=0)\n",
        "\n",
        "data_bkg_train = (data_bkg_train - means) / stds\n",
        "data_bkg_test =(data_bkg_test - means) / stds\n",
        "print(\"Train shape:\", data_bkg_train.shape)\n",
        "print(\"Test shape:\", data_bkg_test.shape)"
      ],
      "metadata": {
        "colab": {
          "base_uri": "https://localhost:8080/"
        },
        "id": "7vS44wutkpLF",
        "outputId": "5a7d6c7b-3741-4668-bc1a-7247bbacf92b"
      },
      "execution_count": null,
      "outputs": [
        {
          "output_type": "stream",
          "name": "stdout",
          "text": [
            "Train shape: torch.Size([20000, 5])\n",
            "Test shape: torch.Size([1000, 5])\n"
          ]
        }
      ]
    },
    {
      "cell_type": "markdown",
      "source": [
        "## Signal data"
      ],
      "metadata": {
        "id": "Azoegak2V513"
      }
    },
    {
      "cell_type": "code",
      "source": [
        "import h5py\n",
        "def get_data_from_h5(file_dir:str, bucket_name:str = 'cuda-programming-406720'):\n",
        "        client = storage.Client()\n",
        "        bucket = client.get_bucket(bucket_name)\n",
        "        blob = bucket.blob(file_dir)\n",
        "        file_contents = BytesIO(blob.download_as_string())\n",
        "        with h5py.File(file_contents, 'r') as f:\n",
        "            dataset = f['Track']\n",
        "            data = dataset[:10_000]\n",
        "            d1 = dataset[:10_000]\n",
        "            d2 = dataset[10_000:10_500]\n",
        "        return d1, d2"
      ],
      "metadata": {
        "id": "IcEmF7waV7T4"
      },
      "execution_count": null,
      "outputs": []
    },
    {
      "cell_type": "code",
      "source": [
        "sig1_train, sig1_test = get_data_from_h5('QCD_LLP_samples/h5-files/500GeV_n3_events_100k_1mm_pileup.h5')\n",
        "sig2_train, sig2_test = get_data_from_h5('QCD_LLP_samples/h5-files/100GeV_n3_events_100k_1mm_pileup.h5')"
      ],
      "metadata": {
        "id": "XbOyxMuZZE_0"
      },
      "execution_count": null,
      "outputs": []
    },
    {
      "cell_type": "code",
      "source": [
        "data_sig_train = np.concatenate((sig1_train,sig2_train))\n",
        "data_sig_test = np.concatenate((sig1_test,sig2_test))"
      ],
      "metadata": {
        "id": "TjrdapG4ZZx4"
      },
      "execution_count": null,
      "outputs": []
    },
    {
      "cell_type": "code",
      "source": [
        "data_sig_train = torch.tensor([list(data_sig_train[i]) for i in range(data_sig_train.shape[0])])\n",
        "data_sig_test = torch.tensor([list(data_sig_test[i]) for i in range(data_sig_test.shape[0])])"
      ],
      "metadata": {
        "id": "laaZB3YUaXoq"
      },
      "execution_count": null,
      "outputs": []
    },
    {
      "cell_type": "code",
      "source": [
        "data_sig_train = (data_sig_train - means) / stds\n",
        "data_sig_test =(data_sig_test - means) / stds\n",
        "\n",
        "print(\"Train shape:\", data_sig_train.shape)\n",
        "print(\"Test shape:\", data_sig_test.shape)"
      ],
      "metadata": {
        "colab": {
          "base_uri": "https://localhost:8080/"
        },
        "id": "g94g-bb1kSaE",
        "outputId": "2979fada-1a78-4cf8-e185-dcd48b843d20"
      },
      "execution_count": null,
      "outputs": [
        {
          "output_type": "stream",
          "name": "stdout",
          "text": [
            "Train shape: torch.Size([20000, 5])\n",
            "Test shape: torch.Size([1000, 5])\n"
          ]
        }
      ]
    },
    {
      "cell_type": "markdown",
      "source": [
        "## Over-density Estimation"
      ],
      "metadata": {
        "id": "ItnLE4WLfapR"
      }
    },
    {
      "cell_type": "code",
      "source": [
        "ode_model = ode(sg_data = data_sig_train, bkg_data=data_bkg_train)"
      ],
      "metadata": {
        "id": "S9O_v1uVU-OP"
      },
      "execution_count": null,
      "outputs": []
    },
    {
      "cell_type": "code",
      "source": [
        "ode_model.run()"
      ],
      "metadata": {
        "colab": {
          "base_uri": "https://localhost:8080/"
        },
        "id": "w7WNhCrgVBUG",
        "outputId": "f724f3e5-e2fd-4ba3-fb6f-277915c94c9d"
      },
      "execution_count": null,
      "outputs": [
        {
          "output_type": "stream",
          "name": "stdout",
          "text": [
            "Training signal MDN...\n",
            "Training background MDN...\n"
          ]
        }
      ]
    },
    {
      "cell_type": "code",
      "source": [
        "data_test = torch.concatenate((data_sig_test, data_bkg_test))\n",
        "labels = torch.concatenate((torch.ones((data_sig_test.shape[0])), torch.zeros((data_bkg_test.shape[0]))))\n",
        "print(data_test.shape)\n",
        "print(labels.shape)"
      ],
      "metadata": {
        "colab": {
          "base_uri": "https://localhost:8080/"
        },
        "id": "MX-qkZ3oVEsG",
        "outputId": "02a888e1-ed0c-4d5d-a6a9-6e33ddb7a1f3"
      },
      "execution_count": null,
      "outputs": [
        {
          "output_type": "stream",
          "name": "stdout",
          "text": [
            "torch.Size([2000, 5])\n",
            "torch.Size([2000])\n"
          ]
        }
      ]
    },
    {
      "cell_type": "code",
      "source": [
        "scores = ode_model.get_scores(data=data_test, epsilon=1e-3).detach().numpy()\n",
        "labels = labels.detach().numpy()\n",
        "\n",
        "labels = labels[np.isfinite(scores)]\n",
        "scores = scores[np.isfinite(scores)]\n",
        "\n",
        "ids = np.where(np.isnan(scores))[0]\n",
        "mask = np.ones(labels.shape, dtype=bool)\n",
        "mask[ids] = False\n",
        "labels1 = labels[mask]\n",
        "scores = scores[mask]"
      ],
      "metadata": {
        "id": "YLNrUE2Mlydz"
      },
      "execution_count": null,
      "outputs": []
    },
    {
      "cell_type": "code",
      "source": [
        "plt.hist(scores[labels1==1], bins=100, label='Signal')\n",
        "plt.hist(scores[labels1==0], bins=100, label='Background')\n",
        "plt.grid(True)\n",
        "plt.xlabel('Score')\n",
        "plt.title('Distribution of the anomaly score (epsilon=1e-3)')\n",
        "# plt.xlim((0,0.1))\n",
        "plt.legend()\n",
        "plt.show()"
      ],
      "metadata": {
        "colab": {
          "base_uri": "https://localhost:8080/",
          "height": 472
        },
        "id": "CX1dm5ajneDR",
        "outputId": "d91bb096-a642-410e-9158-8e5c4b3f8957"
      },
      "execution_count": null,
      "outputs": [
        {
          "output_type": "display_data",
          "data": {
            "text/plain": [
              "<Figure size 640x480 with 1 Axes>"
            ],
            "image/png": "[encoded data removed]"
          },
          "metadata": {}
        }
      ]
    },
    {
      "cell_type": "code",
      "source": [
        "from sklearn.metrics import roc_curve, roc_auc_score, confusion_matrix, accuracy_score"
      ],
      "metadata": {
        "id": "Q5eLlKH2wSJb"
      },
      "execution_count": null,
      "outputs": []
    },
    {
      "cell_type": "code",
      "source": [
        "y_pred = (scores < 0.5).astype(int)\n",
        "cm = confusion_matrix(labels, y_pred)\n",
        "accuracy = accuracy_score(labels, y_pred)*100\n",
        "plt.figure(figsize=(8,6))\n",
        "sns.heatmap(cm, annot=True, fmt=\"d\", cmap=\"Blues\", xticklabels=[\"Background\", \"Signal\"], yticklabels=[\"Background\", \"Signal\"])\n",
        "plt.xlabel(\"Predicted labels\")\n",
        "plt.ylabel(\"True labels\")\n",
        "plt.title(\"Confusion Matrix (Accuracy: {:.2f}%)\".format(accuracy))\n",
        "# plt.savefig(f'docs/cm-{type_model}.pdf', format='pdf')\n",
        "plt.show()"
      ],
      "metadata": {
        "colab": {
          "base_uri": "https://localhost:8080/",
          "height": 564
        },
        "id": "n1wIWaH2v57s",
        "outputId": "4c83f63c-9bf9-49b5-ea78-eafc2885c133"
      },
      "execution_count": null,
      "outputs": [
        {
          "output_type": "display_data",
          "data": {
            "text/plain": [
              "<Figure size 800x600 with 2 Axes>"
            ],
            "image/png": "[encoded data removed]"
          },
          "metadata": {}
        }
      ]
    }
  ],
  "metadata": {
    "language_info": {
      "name": "python"
    },
    "colab": {
      "provenance": []
    },
    "kernelspec": {
      "name": "python3",
      "display_name": "Python 3"
    }
  },
  "nbformat": 4,
  "nbformat_minor": 0
}