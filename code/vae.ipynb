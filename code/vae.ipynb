{
  "cells": [
    {
      "cell_type": "markdown",
      "source": [
        "# Settings"
      ],
      "metadata": {
        "id": "X3tNoD9BRnEK"
      }
    },
    {
      "cell_type": "code",
      "execution_count": null,
      "metadata": {
        "id": "3IpaU6Gg4NvS"
      },
      "outputs": [],
      "source": [
        "%%capture\n",
        "!pip install uproot"
      ]
    },
    {
      "cell_type": "code",
      "execution_count": 28,
      "metadata": {
        "colab": {
          "base_uri": "https://localhost:8080/"
        },
        "id": "Twqu3M4K5HEn",
        "outputId": "86661f16-20eb-4135-e636-1c6db876dbb1"
      },
      "outputs": [
        {
          "output_type": "stream",
          "name": "stdout",
          "text": [
            "Current working directory: /content/anomaly-detection-in-HEP/code\n"
          ]
        }
      ],
      "source": [
        "import os\n",
        "\n",
        "# Define your workspace directory\n",
        "workspace_dir = '/content/anomaly-detection-in-HEP/code'\n",
        "\n",
        "# Create the directory if it doesn't exist\n",
        "if not os.path.exists(workspace_dir):\n",
        "    os.makedirs(workspace_dir)\n",
        "\n",
        "# Change the current working directory to your workspace directory\n",
        "os.chdir(workspace_dir)\n",
        "\n",
        "# Verify the current working directory\n",
        "print('Current working directory:', os.getcwd())\n"
      ]
    },
    {
      "cell_type": "code",
      "source": [
        "from torch.utils.data import DataLoader\n",
        "from google.cloud import storage\n",
        "from io import BytesIO\n",
        "import uproot\n",
        "from itertools import chain\n",
        "import numpy as np\n",
        "import torch\n",
        "import h5py\n",
        "from array import array\n",
        "import os\n",
        "import torch.optim as optim\n",
        "from sklearn.metrics import accuracy_score\n",
        "from torchsummary import summary\n",
        "import torch.nn as nn\n",
        "import torch.nn.functional as F\n",
        "from torch.autograd import Variable\n",
        "from matplotlib import pyplot as plt"
      ],
      "metadata": {
        "id": "KR-TIH7PFfS6"
      },
      "execution_count": 29,
      "outputs": []
    },
    {
      "cell_type": "markdown",
      "source": [
        "## Data loading"
      ],
      "metadata": {
        "id": "GBJb8aKrJ9c8"
      }
    },
    {
      "cell_type": "code",
      "source": [
        "def get_data_from_h5(file_dir:str = 'QCD_LLP_samples/preprocessed_data.h5',\n",
        "                     bucket_name:str = 'cuda-programming-406720'):\n",
        "  client = storage.Client()\n",
        "  bucket = client.get_bucket(bucket_name)\n",
        "  blob = bucket.blob(file_dir)\n",
        "  file_contents = BytesIO(blob.download_as_string())\n",
        "  with h5py.File(file_contents, 'r') as f:\n",
        "    dataset_train = f['train']\n",
        "    dataset_valid = f['valid']\n",
        "    dataset_test = f['test']\n",
        "    d1 = dataset_train[:]\n",
        "    d2 = dataset_valid[:]\n",
        "    d3 = dataset_test[:]\n",
        "  return d1, d2, d3\n",
        "\n",
        "data_train, data_valid, data_test = get_data_from_h5()"
      ],
      "metadata": {
        "id": "kI7Fl-22J_zx"
      },
      "execution_count": 30,
      "outputs": []
    },
    {
      "cell_type": "code",
      "source": [
        "mins = data_train[:,:5].min(axis=0)\n",
        "maxs = data_train[:,:5].max(axis=0)\n",
        "labels_train = data_train[:, -1]\n",
        "labels_test = data_test[:, -1]\n",
        "labels_valid = data_valid[:, -1]"
      ],
      "metadata": {
        "id": "zpJgj6gw7w8Y"
      },
      "execution_count": 31,
      "outputs": []
    },
    {
      "cell_type": "code",
      "source": [
        "data_train = (data_train[:,:5] - mins)/(maxs - mins)\n",
        "data_test = (data_test[:,:5] - mins)/(maxs - mins)\n",
        "data_valid = (data_valid[:,:5] - mins)/(maxs - mins)"
      ],
      "metadata": {
        "id": "Fe3aTfQI8M23"
      },
      "execution_count": 32,
      "outputs": []
    },
    {
      "cell_type": "code",
      "source": [
        "data_bkg_train = torch.tensor(data_train[labels_train==0, :5][:5_000_000,:])\n",
        "data_sig_train = torch.tensor(data_train[labels_train==1, :5][:5_000_000,:])"
      ],
      "metadata": {
        "id": "PbfWnvCMK7t8"
      },
      "execution_count": 33,
      "outputs": []
    },
    {
      "cell_type": "code",
      "source": [
        "data_bkg_valid = torch.tensor(data_valid[labels_valid==0, :5][:500_000,:])\n",
        "data_sig_valid = torch.tensor(data_valid[labels_valid==1, :5][:500_000,:])"
      ],
      "metadata": {
        "id": "R232QgnyG1Id"
      },
      "execution_count": 34,
      "outputs": []
    },
    {
      "cell_type": "code",
      "source": [
        "data_bkg_test = torch.tensor(data_test[labels_test==0, :5][:500_000,:])\n",
        "data_sig_test = torch.tensor(data_test[labels_test==1, :5][:500_000,:])"
      ],
      "metadata": {
        "id": "hM73HTLdHEtz"
      },
      "execution_count": 35,
      "outputs": []
    },
    {
      "cell_type": "code",
      "source": [
        "del data_train"
      ],
      "metadata": {
        "id": "GKG9IHMhLGtk"
      },
      "execution_count": 36,
      "outputs": []
    },
    {
      "cell_type": "markdown",
      "metadata": {
        "id": "oRq4xUM8UILv"
      },
      "source": [
        "# Train VAE model"
      ]
    },
    {
      "cell_type": "code",
      "execution_count": 40,
      "metadata": {
        "id": "u4K9qrjRTcz1"
      },
      "outputs": [],
      "source": [
        "BATCH_SIZE = 10_000\n",
        "DROPOUT_RATE = 0.01\n",
        "beta = 0.1\n",
        "lr = 1e-1\n",
        "latent_dim = 2\n",
        "num_epochs = 100\n",
        "\n",
        "class VAE(nn.Module):\n",
        "    def __init__(self, input_dim, latent_dim):\n",
        "        super(VAE, self).__init__()\n",
        "\n",
        "        self.fc1 = nn.Linear(in_features=input_dim, out_features=64)\n",
        "        self.fc21 = nn.Linear(in_features=64, out_features=latent_dim)\n",
        "        self.fc22 = nn.Linear(in_features=64, out_features=latent_dim)\n",
        "        self.fc3 = nn.Linear(in_features=latent_dim, out_features=64)\n",
        "        self.fc4 = nn.Linear(in_features=64, out_features=input_dim)\n",
        "        self.relu = nn.ReLU()\n",
        "        self.sigmoid = nn.Sigmoid()\n",
        "        self.dropout = nn.Dropout(DROPOUT_RATE)\n",
        "\n",
        "    def encode(self, x):\n",
        "        h1 = self.relu(self.fc1(x))\n",
        "        return self.fc21(h1), self.fc22(h1)\n",
        "\n",
        "    def reparameterize(self, mu, logvar):\n",
        "        # if self.training:\n",
        "            std = torch.exp(0.5*logvar)\n",
        "            eps = torch.randn_like(std)\n",
        "            return mu + eps*std\n",
        "        # else:\n",
        "            # return mu\n",
        "\n",
        "    def decode(self, z):\n",
        "        h3 = self.relu(self.fc3(z))\n",
        "        return self.sigmoid(self.fc4(h3))\n",
        "\n",
        "    def forward(self, x):\n",
        "        mu, logvar = self.encode(x)\n",
        "        z = self.reparameterize(mu, logvar)\n",
        "        return self.decode(z), mu, logvar\n",
        "\n",
        "    def loss_function(self, recon_x, x, mu, logvar):\n",
        "        recon_loss = torch.mean(torch.pow(recon_x - x, 2)) #/ BATCH_SIZE\n",
        "        kl_loss = -0.5 * torch.mean(1 + logvar - mu.pow(2) - logvar.exp()) #/ BATCH_SIZE\n",
        "        return (1-beta)*recon_loss + beta*kl_loss\n",
        "\n",
        "\n",
        "class AE(nn.Module):\n",
        "    def __init__(self, input_dim, latent_dim, dropout_rate=0.1):\n",
        "        super(AE, self).__init__()\n",
        "\n",
        "        self.fc1 = nn.Linear(in_features=input_dim, out_features=512)\n",
        "        self.fc2 = nn.Linear(in_features=512, out_features=latent_dim)\n",
        "        self.fc3 = nn.Linear(in_features=latent_dim, out_features=512)\n",
        "        self.fc4 = nn.Linear(in_features=512, out_features=input_dim)\n",
        "        self.relu = nn.ReLU()\n",
        "        self.tanh = nn.Tanh()\n",
        "        self.dropout = nn.Dropout(dropout_rate)\n",
        "\n",
        "    def encode(self, x):\n",
        "        h1 = self.relu(self.fc1(x))\n",
        "        return self.fc2(h1)\n",
        "\n",
        "    def decode(self, z):\n",
        "        h3 = self.relu(self.fc3(z))\n",
        "        return self.tanh(self.fc4(h3))\n",
        "\n",
        "    def forward(self, x):\n",
        "        z = self.encode(x)\n",
        "        return self.decode(z)\n",
        "\n",
        "    def loss_function(self, recon_x, x):\n",
        "        recon_loss = torch.mean(torch.pow(recon_x - x, 2))  # Mean Squared Error Loss\n",
        "        return recon_loss"
      ]
    },
    {
      "cell_type": "code",
      "source": [
        "from torchsummary import summary\n",
        "\n",
        "device = torch.device(\"cuda\" if torch.cuda.is_available() else \"cpu\")\n",
        "model_vae = VAE(input_dim=5, latent_dim=latent_dim)\n",
        "model_vae = model_vae.to(device)\n",
        "summary(model_vae, input_size=(5,))"
      ],
      "metadata": {
        "colab": {
          "base_uri": "https://localhost:8080/"
        },
        "id": "7LXfsKVjZVMo",
        "outputId": "5ece44df-2e72-435c-c779-2999cb70d125"
      },
      "execution_count": 41,
      "outputs": [
        {
          "output_type": "stream",
          "name": "stdout",
          "text": [
            "----------------------------------------------------------------\n",
            "        Layer (type)               Output Shape         Param #\n",
            "================================================================\n",
            "            Linear-1                   [-1, 64]             384\n",
            "              ReLU-2                   [-1, 64]               0\n",
            "            Linear-3                    [-1, 2]             130\n",
            "            Linear-4                    [-1, 2]             130\n",
            "            Linear-5                   [-1, 64]             192\n",
            "              ReLU-6                   [-1, 64]               0\n",
            "            Linear-7                    [-1, 5]             325\n",
            "           Sigmoid-8                    [-1, 5]               0\n",
            "================================================================\n",
            "Total params: 1,161\n",
            "Trainable params: 1,161\n",
            "Non-trainable params: 0\n",
            "----------------------------------------------------------------\n",
            "Input size (MB): 0.00\n",
            "Forward/backward pass size (MB): 0.00\n",
            "Params size (MB): 0.00\n",
            "Estimated Total Size (MB): 0.01\n",
            "----------------------------------------------------------------\n"
          ]
        }
      ]
    },
    {
      "cell_type": "code",
      "source": [
        "from datetime import datetime\n",
        "\n",
        "train_loader = DataLoader(data_bkg_train, batch_size=BATCH_SIZE, shuffle=True, num_workers=10)\n",
        "valid_loader = DataLoader(data_bkg_valid, batch_size=BATCH_SIZE, shuffle=False, num_workers=10)\n",
        "optimizer=optim.Adam(model_vae.parameters(), lr=0.001)\n",
        "\n",
        "train_losses = []\n",
        "valid_losses = []\n",
        "for epoch in range(num_epochs):\n",
        "  starting_time = datetime.now()\n",
        "  epoch_train_loss = 0.0\n",
        "  epoch_valid_loss = 0.0\n",
        "\n",
        "  # Training\n",
        "  model_vae.train()\n",
        "  for inputs in train_loader:\n",
        "    optimizer.zero_grad()\n",
        "    inputs = inputs.to(device)\n",
        "    # inputs_recon = model_vae(inputs)\n",
        "    # inputs_recon = inputs_recon.to(device)\n",
        "    # train_loss = model_vae.loss_function(inputs, inputs_recon)\n",
        "    inputs_recon, mu, logvar = model_vae(inputs)\n",
        "    inputs_recon, mu, logvar = inputs_recon.to(device), mu.to(device), logvar.to(device)\n",
        "    train_loss = model_vae.loss_function(inputs, inputs_recon, mu, logvar)\n",
        "    train_loss.backward()\n",
        "    optimizer.step()\n",
        "    epoch_train_loss += train_loss.item()\n",
        "\n",
        "  # Validation\n",
        "  model_vae.eval()\n",
        "  with torch.no_grad():\n",
        "    for data in valid_loader:\n",
        "          x = data\n",
        "          inputs = x.to(device)\n",
        "          # inputs_recon = model_vae(inputs)\n",
        "          # inputs_recon = inputs_recon.to(device)\n",
        "          # valid_loss = model_vae.loss_function(inputs, inputs_recon)\n",
        "          x_recon, mu, logvar = model_vae(inputs)\n",
        "          x_recon, mu, logvar = x_recon.to(device), mu.to(device), logvar.to(device)\n",
        "          valid_loss = model_vae.loss_function(inputs, x_recon, mu, logvar)\n",
        "          epoch_valid_loss += valid_loss.item()\n",
        "\n",
        "  epoch_train_loss /= len(train_loader)\n",
        "  epoch_valid_loss /= len(valid_loader)\n",
        "\n",
        "  train_losses.append(epoch_train_loss)\n",
        "  valid_losses.append(epoch_valid_loss)\n",
        "\n",
        "  time_elapsed = datetime.now() - starting_time\n",
        "  print('Epoch: {}, Train len batch: {}, Train loss: {:.10f}, Valid loss: {:.10f}, Time elapsed (hh:mm:ss.ms) {}'.format(\n",
        "                    epoch,len(train_loader) ,epoch_train_loss, epoch_valid_loss, time_elapsed\n",
        "  ))\n"
      ],
      "metadata": {
        "colab": {
          "base_uri": "https://localhost:8080/"
        },
        "id": "mtRKxFgRaXQK",
        "outputId": "ef15a48e-dd03-4838-9731-78b0ac16f98e"
      },
      "execution_count": 42,
      "outputs": [
        {
          "output_type": "stream",
          "name": "stdout",
          "text": [
            "Epoch: 0, Train len batch: 500, Train loss: 0.0205027343, Valid loss: 0.0161837158, Time elapsed (hh:mm:ss.ms) 0:00:07.425477\n",
            "Epoch: 1, Train len batch: 500, Train loss: 0.0161035804, Valid loss: 0.0159978806, Time elapsed (hh:mm:ss.ms) 0:00:06.710530\n",
            "Epoch: 2, Train len batch: 500, Train loss: 0.0160220164, Valid loss: 0.0159687355, Time elapsed (hh:mm:ss.ms) 0:00:07.514350\n",
            "Epoch: 3, Train len batch: 500, Train loss: 0.0160050367, Valid loss: 0.0159562957, Time elapsed (hh:mm:ss.ms) 0:00:06.935910\n",
            "Epoch: 4, Train len batch: 500, Train loss: 0.0159997588, Valid loss: 0.0159538414, Time elapsed (hh:mm:ss.ms) 0:00:06.699774\n",
            "Epoch: 5, Train len batch: 500, Train loss: 0.0159970006, Valid loss: 0.0159559433, Time elapsed (hh:mm:ss.ms) 0:00:07.111979\n",
            "Epoch: 6, Train len batch: 500, Train loss: 0.0159965558, Valid loss: 0.0159526794, Time elapsed (hh:mm:ss.ms) 0:00:07.234656\n",
            "Epoch: 7, Train len batch: 500, Train loss: 0.0159960213, Valid loss: 0.0159539267, Time elapsed (hh:mm:ss.ms) 0:00:06.984556\n",
            "Epoch: 8, Train len batch: 500, Train loss: 0.0159956444, Valid loss: 0.0159536365, Time elapsed (hh:mm:ss.ms) 0:00:07.018683\n",
            "Epoch: 9, Train len batch: 500, Train loss: 0.0159958085, Valid loss: 0.0159513037, Time elapsed (hh:mm:ss.ms) 0:00:06.821305\n",
            "Epoch: 10, Train len batch: 500, Train loss: 0.0159950309, Valid loss: 0.0159523522, Time elapsed (hh:mm:ss.ms) 0:00:06.819039\n",
            "Epoch: 11, Train len batch: 500, Train loss: 0.0159957505, Valid loss: 0.0159524987, Time elapsed (hh:mm:ss.ms) 0:00:07.054821\n",
            "Epoch: 12, Train len batch: 500, Train loss: 0.0159951054, Valid loss: 0.0159520005, Time elapsed (hh:mm:ss.ms) 0:00:06.814068\n",
            "Epoch: 13, Train len batch: 500, Train loss: 0.0159952762, Valid loss: 0.0159550313, Time elapsed (hh:mm:ss.ms) 0:00:06.632140\n",
            "Epoch: 14, Train len batch: 500, Train loss: 0.0159948701, Valid loss: 0.0159536848, Time elapsed (hh:mm:ss.ms) 0:00:06.945851\n",
            "Epoch: 15, Train len batch: 500, Train loss: 0.0159949315, Valid loss: 0.0159518401, Time elapsed (hh:mm:ss.ms) 0:00:07.031927\n",
            "Epoch: 16, Train len batch: 500, Train loss: 0.0159947587, Valid loss: 0.0159532810, Time elapsed (hh:mm:ss.ms) 0:00:07.027918\n",
            "Epoch: 17, Train len batch: 500, Train loss: 0.0159949658, Valid loss: 0.0159540281, Time elapsed (hh:mm:ss.ms) 0:00:06.807333\n",
            "Epoch: 18, Train len batch: 500, Train loss: 0.0159946051, Valid loss: 0.0159518709, Time elapsed (hh:mm:ss.ms) 0:00:06.831221\n",
            "Epoch: 19, Train len batch: 500, Train loss: 0.0159944438, Valid loss: 0.0159510448, Time elapsed (hh:mm:ss.ms) 0:00:06.784697\n",
            "Epoch: 20, Train len batch: 500, Train loss: 0.0159945431, Valid loss: 0.0159554923, Time elapsed (hh:mm:ss.ms) 0:00:06.800634\n",
            "Epoch: 21, Train len batch: 500, Train loss: 0.0159949309, Valid loss: 0.0159522152, Time elapsed (hh:mm:ss.ms) 0:00:06.944719\n",
            "Epoch: 22, Train len batch: 500, Train loss: 0.0159945084, Valid loss: 0.0159517893, Time elapsed (hh:mm:ss.ms) 0:00:07.302541\n",
            "Epoch: 23, Train len batch: 500, Train loss: 0.0159951204, Valid loss: 0.0159535203, Time elapsed (hh:mm:ss.ms) 0:00:07.205166\n",
            "Epoch: 24, Train len batch: 500, Train loss: 0.0159943506, Valid loss: 0.0159514426, Time elapsed (hh:mm:ss.ms) 0:00:07.163940\n",
            "Epoch: 25, Train len batch: 500, Train loss: 0.0159945288, Valid loss: 0.0159528200, Time elapsed (hh:mm:ss.ms) 0:00:07.130529\n",
            "Epoch: 26, Train len batch: 500, Train loss: 0.0159944148, Valid loss: 0.0159502851, Time elapsed (hh:mm:ss.ms) 0:00:06.829876\n",
            "Epoch: 27, Train len batch: 500, Train loss: 0.0159943469, Valid loss: 0.0159534659, Time elapsed (hh:mm:ss.ms) 0:00:07.009228\n",
            "Epoch: 28, Train len batch: 500, Train loss: 0.0159944916, Valid loss: 0.0159497665, Time elapsed (hh:mm:ss.ms) 0:00:07.275208\n",
            "Epoch: 29, Train len batch: 500, Train loss: 0.0159942251, Valid loss: 0.0159501665, Time elapsed (hh:mm:ss.ms) 0:00:06.821892\n",
            "Epoch: 30, Train len batch: 500, Train loss: 0.0159939116, Valid loss: 0.0159550778, Time elapsed (hh:mm:ss.ms) 0:00:07.071848\n",
            "Epoch: 31, Train len batch: 500, Train loss: 0.0159940048, Valid loss: 0.0159506134, Time elapsed (hh:mm:ss.ms) 0:00:07.045408\n",
            "Epoch: 32, Train len batch: 500, Train loss: 0.0159941516, Valid loss: 0.0159515755, Time elapsed (hh:mm:ss.ms) 0:00:07.574464\n",
            "Epoch: 33, Train len batch: 500, Train loss: 0.0159942599, Valid loss: 0.0159508205, Time elapsed (hh:mm:ss.ms) 0:00:07.513971\n",
            "Epoch: 34, Train len batch: 500, Train loss: 0.0159940695, Valid loss: 0.0159507358, Time elapsed (hh:mm:ss.ms) 0:00:07.539912\n",
            "Epoch: 35, Train len batch: 500, Train loss: 0.0159941133, Valid loss: 0.0159528284, Time elapsed (hh:mm:ss.ms) 0:00:07.579752\n",
            "Epoch: 36, Train len batch: 500, Train loss: 0.0159941265, Valid loss: 0.0159509313, Time elapsed (hh:mm:ss.ms) 0:00:07.105380\n",
            "Epoch: 37, Train len batch: 500, Train loss: 0.0159943785, Valid loss: 0.0159514143, Time elapsed (hh:mm:ss.ms) 0:00:07.061109\n",
            "Epoch: 38, Train len batch: 500, Train loss: 0.0159941568, Valid loss: 0.0159505626, Time elapsed (hh:mm:ss.ms) 0:00:07.159685\n",
            "Epoch: 39, Train len batch: 500, Train loss: 0.0159944089, Valid loss: 0.0159519738, Time elapsed (hh:mm:ss.ms) 0:00:07.893059\n",
            "Epoch: 40, Train len batch: 500, Train loss: 0.0159938478, Valid loss: 0.0159502152, Time elapsed (hh:mm:ss.ms) 0:00:07.501971\n",
            "Epoch: 41, Train len batch: 500, Train loss: 0.0159940571, Valid loss: 0.0159497547, Time elapsed (hh:mm:ss.ms) 0:00:07.064597\n",
            "Epoch: 42, Train len batch: 500, Train loss: 0.0159936448, Valid loss: 0.0159504868, Time elapsed (hh:mm:ss.ms) 0:00:07.260777\n",
            "Epoch: 43, Train len batch: 500, Train loss: 0.0159936113, Valid loss: 0.0159501724, Time elapsed (hh:mm:ss.ms) 0:00:06.923828\n",
            "Epoch: 44, Train len batch: 500, Train loss: 0.0159940882, Valid loss: 0.0159513010, Time elapsed (hh:mm:ss.ms) 0:00:07.111787\n",
            "Epoch: 45, Train len batch: 500, Train loss: 0.0159936392, Valid loss: 0.0159504873, Time elapsed (hh:mm:ss.ms) 0:00:06.771556\n",
            "Epoch: 46, Train len batch: 500, Train loss: 0.0159938644, Valid loss: 0.0159505740, Time elapsed (hh:mm:ss.ms) 0:00:06.976093\n",
            "Epoch: 47, Train len batch: 500, Train loss: 0.0159936565, Valid loss: 0.0159495256, Time elapsed (hh:mm:ss.ms) 0:00:07.251812\n",
            "Epoch: 48, Train len batch: 500, Train loss: 0.0159937485, Valid loss: 0.0159555656, Time elapsed (hh:mm:ss.ms) 0:00:07.170972\n",
            "Epoch: 49, Train len batch: 500, Train loss: 0.0159935632, Valid loss: 0.0159504316, Time elapsed (hh:mm:ss.ms) 0:00:07.401091\n",
            "Epoch: 50, Train len batch: 500, Train loss: 0.0159937027, Valid loss: 0.0159556723, Time elapsed (hh:mm:ss.ms) 0:00:07.487290\n",
            "Epoch: 51, Train len batch: 500, Train loss: 0.0159936052, Valid loss: 0.0159499859, Time elapsed (hh:mm:ss.ms) 0:00:07.009608\n",
            "Epoch: 52, Train len batch: 500, Train loss: 0.0159932576, Valid loss: 0.0159519452, Time elapsed (hh:mm:ss.ms) 0:00:06.973467\n",
            "Epoch: 53, Train len batch: 500, Train loss: 0.0159933503, Valid loss: 0.0159514798, Time elapsed (hh:mm:ss.ms) 0:00:07.348549\n",
            "Epoch: 54, Train len batch: 500, Train loss: 0.0159933097, Valid loss: 0.0159506930, Time elapsed (hh:mm:ss.ms) 0:00:07.078665\n",
            "Epoch: 55, Train len batch: 500, Train loss: 0.0159933606, Valid loss: 0.0159564255, Time elapsed (hh:mm:ss.ms) 0:00:07.216978\n",
            "Epoch: 56, Train len batch: 500, Train loss: 0.0159934676, Valid loss: 0.0159503513, Time elapsed (hh:mm:ss.ms) 0:00:07.292387\n",
            "Epoch: 57, Train len batch: 500, Train loss: 0.0159935049, Valid loss: 0.0159508824, Time elapsed (hh:mm:ss.ms) 0:00:07.095793\n",
            "Epoch: 58, Train len batch: 500, Train loss: 0.0159931589, Valid loss: 0.0159504444, Time elapsed (hh:mm:ss.ms) 0:00:06.814958\n",
            "Epoch: 59, Train len batch: 500, Train loss: 0.0159932877, Valid loss: 0.0159511075, Time elapsed (hh:mm:ss.ms) 0:00:07.249523\n",
            "Epoch: 60, Train len batch: 500, Train loss: 0.0159932459, Valid loss: 0.0159513096, Time elapsed (hh:mm:ss.ms) 0:00:07.076266\n",
            "Epoch: 61, Train len batch: 500, Train loss: 0.0159929854, Valid loss: 0.0159499398, Time elapsed (hh:mm:ss.ms) 0:00:07.381219\n",
            "Epoch: 62, Train len batch: 500, Train loss: 0.0159929729, Valid loss: 0.0159518014, Time elapsed (hh:mm:ss.ms) 0:00:07.093583\n",
            "Epoch: 63, Train len batch: 500, Train loss: 0.0159929347, Valid loss: 0.0159520908, Time elapsed (hh:mm:ss.ms) 0:00:07.148246\n",
            "Epoch: 64, Train len batch: 500, Train loss: 0.0159929314, Valid loss: 0.0159531247, Time elapsed (hh:mm:ss.ms) 0:00:07.003333\n",
            "Epoch: 65, Train len batch: 500, Train loss: 0.0159929483, Valid loss: 0.0159495864, Time elapsed (hh:mm:ss.ms) 0:00:07.273606\n",
            "Epoch: 66, Train len batch: 500, Train loss: 0.0159931133, Valid loss: 0.0159498065, Time elapsed (hh:mm:ss.ms) 0:00:09.735353\n",
            "Epoch: 67, Train len batch: 500, Train loss: 0.0159932771, Valid loss: 0.0159509263, Time elapsed (hh:mm:ss.ms) 0:00:08.563189\n",
            "Epoch: 68, Train len batch: 500, Train loss: 0.0159928634, Valid loss: 0.0159505051, Time elapsed (hh:mm:ss.ms) 0:00:07.403176\n",
            "Epoch: 69, Train len batch: 500, Train loss: 0.0159930670, Valid loss: 0.0159509296, Time elapsed (hh:mm:ss.ms) 0:00:07.331903\n",
            "Epoch: 70, Train len batch: 500, Train loss: 0.0159929053, Valid loss: 0.0159504984, Time elapsed (hh:mm:ss.ms) 0:00:07.455093\n",
            "Epoch: 71, Train len batch: 500, Train loss: 0.0159926635, Valid loss: 0.0159512730, Time elapsed (hh:mm:ss.ms) 0:00:07.786615\n",
            "Epoch: 72, Train len batch: 500, Train loss: 0.0159928370, Valid loss: 0.0159493542, Time elapsed (hh:mm:ss.ms) 0:00:07.080046\n",
            "Epoch: 73, Train len batch: 500, Train loss: 0.0159927748, Valid loss: 0.0159505095, Time elapsed (hh:mm:ss.ms) 0:00:07.578429\n",
            "Epoch: 74, Train len batch: 500, Train loss: 0.0159926551, Valid loss: 0.0159498192, Time elapsed (hh:mm:ss.ms) 0:00:07.594772\n",
            "Epoch: 75, Train len batch: 500, Train loss: 0.0159925878, Valid loss: 0.0159505380, Time elapsed (hh:mm:ss.ms) 0:00:07.462274\n",
            "Epoch: 76, Train len batch: 500, Train loss: 0.0159926088, Valid loss: 0.0159501397, Time elapsed (hh:mm:ss.ms) 0:00:07.742462\n",
            "Epoch: 77, Train len batch: 500, Train loss: 0.0159927682, Valid loss: 0.0159500402, Time elapsed (hh:mm:ss.ms) 0:00:06.891977\n",
            "Epoch: 78, Train len batch: 500, Train loss: 0.0159926117, Valid loss: 0.0159493584, Time elapsed (hh:mm:ss.ms) 0:00:07.061331\n",
            "Epoch: 79, Train len batch: 500, Train loss: 0.0159926425, Valid loss: 0.0159499922, Time elapsed (hh:mm:ss.ms) 0:00:07.088287\n",
            "Epoch: 80, Train len batch: 500, Train loss: 0.0159928996, Valid loss: 0.0159505111, Time elapsed (hh:mm:ss.ms) 0:00:07.310695\n",
            "Epoch: 81, Train len batch: 500, Train loss: 0.0159925696, Valid loss: 0.0159505352, Time elapsed (hh:mm:ss.ms) 0:00:07.306554\n",
            "Epoch: 82, Train len batch: 500, Train loss: 0.0159925002, Valid loss: 0.0159499880, Time elapsed (hh:mm:ss.ms) 0:00:07.491350\n",
            "Epoch: 83, Train len batch: 500, Train loss: 0.0159925234, Valid loss: 0.0159502761, Time elapsed (hh:mm:ss.ms) 0:00:07.772180\n",
            "Epoch: 84, Train len batch: 500, Train loss: 0.0159923899, Valid loss: 0.0159497395, Time elapsed (hh:mm:ss.ms) 0:00:07.670331\n",
            "Epoch: 85, Train len batch: 500, Train loss: 0.0159925234, Valid loss: 0.0159499246, Time elapsed (hh:mm:ss.ms) 0:00:07.118972\n",
            "Epoch: 86, Train len batch: 500, Train loss: 0.0159923869, Valid loss: 0.0159530912, Time elapsed (hh:mm:ss.ms) 0:00:07.500570\n",
            "Epoch: 87, Train len batch: 500, Train loss: 0.0159923652, Valid loss: 0.0159508565, Time elapsed (hh:mm:ss.ms) 0:00:07.504718\n",
            "Epoch: 88, Train len batch: 500, Train loss: 0.0159923100, Valid loss: 0.0159505867, Time elapsed (hh:mm:ss.ms) 0:00:07.486942\n",
            "Epoch: 89, Train len batch: 500, Train loss: 0.0159925742, Valid loss: 0.0159495761, Time elapsed (hh:mm:ss.ms) 0:00:07.313803\n",
            "Epoch: 90, Train len batch: 500, Train loss: 0.0159923724, Valid loss: 0.0159495694, Time elapsed (hh:mm:ss.ms) 0:00:07.165339\n",
            "Epoch: 91, Train len batch: 500, Train loss: 0.0159924440, Valid loss: 0.0159503529, Time elapsed (hh:mm:ss.ms) 0:00:07.377088\n",
            "Epoch: 92, Train len batch: 500, Train loss: 0.0159923408, Valid loss: 0.0159501269, Time elapsed (hh:mm:ss.ms) 0:00:07.139668\n",
            "Epoch: 93, Train len batch: 500, Train loss: 0.0159923439, Valid loss: 0.0159512433, Time elapsed (hh:mm:ss.ms) 0:00:07.206431\n",
            "Epoch: 94, Train len batch: 500, Train loss: 0.0159922145, Valid loss: 0.0159501745, Time elapsed (hh:mm:ss.ms) 0:00:07.534307\n",
            "Epoch: 95, Train len batch: 500, Train loss: 0.0159923359, Valid loss: 0.0159499520, Time elapsed (hh:mm:ss.ms) 0:00:07.218412\n",
            "Epoch: 96, Train len batch: 500, Train loss: 0.0159923611, Valid loss: 0.0159501342, Time elapsed (hh:mm:ss.ms) 0:00:07.224238\n",
            "Epoch: 97, Train len batch: 500, Train loss: 0.0159922525, Valid loss: 0.0159497543, Time elapsed (hh:mm:ss.ms) 0:00:06.946959\n",
            "Epoch: 98, Train len batch: 500, Train loss: 0.0159924045, Valid loss: 0.0159495087, Time elapsed (hh:mm:ss.ms) 0:00:06.912323\n",
            "Epoch: 99, Train len batch: 500, Train loss: 0.0159922322, Valid loss: 0.0159496599, Time elapsed (hh:mm:ss.ms) 0:00:06.902193\n"
          ]
        }
      ]
    },
    {
      "cell_type": "code",
      "source": [
        "import seaborn as sns\n",
        "sns.lineplot(train_losses)\n",
        "# plt.ylim((0,20))"
      ],
      "metadata": {
        "id": "e4G6q9EMS6nU"
      },
      "execution_count": null,
      "outputs": []
    },
    {
      "cell_type": "code",
      "source": [
        "plt.plot(train_losses, label=\"train\")\n",
        "plt.plot(valid_losses, label=\"validation\")\n",
        "plt.legend()\n",
        "plt.ylim((0.0159, 0.017))"
      ],
      "metadata": {
        "id": "ctpUbeWM1iv8",
        "colab": {
          "base_uri": "https://localhost:8080/",
          "height": 453
        },
        "outputId": "ce1a93c8-4363-414b-9d8d-258009521fc9"
      },
      "execution_count": 58,
      "outputs": [
        {
          "output_type": "execute_result",
          "data": {
            "text/plain": [
              "(0.0159, 0.017)"
            ]
          },
          "metadata": {},
          "execution_count": 58
        },
        {
          "output_type": "display_data",
          "data": {
            "text/plain": [
              "<Figure size 640x480 with 1 Axes>"
            ],
            "image/png": "[encoded data removed]"
          },
          "metadata": {}
        }
      ]
    },
    {
      "cell_type": "markdown",
      "source": [
        "# Test the model"
      ],
      "metadata": {
        "id": "NaOJtXWA3xdZ"
      }
    },
    {
      "cell_type": "code",
      "source": [
        "bkg_mse = []\n",
        "for x in data_bkg_test[:500,:]:\n",
        "  x = x.to(device)\n",
        "  x_recon, mu, logvar = model_vae(x)\n",
        "  mse = model_vae.loss_function(x, x_recon, mu, logvar)\n",
        "  if mse.item()<0:\n",
        "    print(mse)\n",
        "  bkg_mse.append(mse.item())"
      ],
      "metadata": {
        "id": "KQJD1zzB16jD"
      },
      "execution_count": 50,
      "outputs": []
    },
    {
      "cell_type": "code",
      "source": [
        "sig_mse = []\n",
        "for x in data_sig_train[:500,:]:\n",
        "  x = x.to(device)\n",
        "  x_recon, mu, logvar = model_vae(x)\n",
        "  mse = model_vae.loss_function(x, x_recon, mu, logvar)\n",
        "  if mse.item()<0:\n",
        "    print(mse)\n",
        "  sig_mse.append(mse.item())"
      ],
      "metadata": {
        "id": "w3_rfyp24VWc",
        "collapsed": true
      },
      "execution_count": 51,
      "outputs": []
    },
    {
      "cell_type": "code",
      "source": [
        "import seaborn as sns\n",
        "import pandas as pd\n",
        "\n",
        "hist_data = pd.DataFrame({'mse': bkg_mse+sig_mse, 'label': ['background']*len(bkg_mse) + ['signal']*len(sig_mse)})\n",
        "sns.kdeplot(data=hist_data, x='mse', hue='label')\n",
        "# plt.xlim((0,3))\n",
        "plt.show()"
      ],
      "metadata": {
        "colab": {
          "base_uri": "https://localhost:8080/",
          "height": 452
        },
        "id": "uyoP5JHk6n76",
        "outputId": "519f9860-8da2-4f78-c6d3-7f3cbe9e6a6b"
      },
      "execution_count": 52,
      "outputs": [
        {
          "output_type": "display_data",
          "data": {
            "text/plain": [
              "<Figure size 640x480 with 1 Axes>"
            ],
            "image/png": "[encoded data removed]"
          },
          "metadata": {}
        }
      ]
    },
    {
      "cell_type": "code",
      "source": [
        "len(sig_mse)"
      ],
      "metadata": {
        "colab": {
          "base_uri": "https://localhost:8080/"
        },
        "id": "NOrJylvayXX4",
        "outputId": "94321b15-ea4d-4724-d94c-b54150865b55"
      },
      "execution_count": null,
      "outputs": [
        {
          "output_type": "execute_result",
          "data": {
            "text/plain": [
              "5840319"
            ]
          },
          "metadata": {},
          "execution_count": 32
        }
      ]
    }
  ],
  "metadata": {
    "colab": {
      "gpuType": "T4",
      "provenance": [],
      "collapsed_sections": [
        "Azoegak2V513"
      ]
    },
    "kernelspec": {
      "display_name": "Python 3",
      "name": "python3"
    },
    "language_info": {
      "name": "python"
    }
  },
  "nbformat": 4,
  "nbformat_minor": 0
}