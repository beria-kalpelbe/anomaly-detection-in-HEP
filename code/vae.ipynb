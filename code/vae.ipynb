{
  "cells": [
    {
      "cell_type": "code",
      "execution_count": 1,
      "metadata": {
        "id": "3IpaU6Gg4NvS"
      },
      "outputs": [],
      "source": [
        "%%capture\n",
        "!pip install uproot"
      ]
    },
    {
      "cell_type": "code",
      "execution_count": 2,
      "metadata": {
        "colab": {
          "base_uri": "https://localhost:8080/"
        },
        "id": "Twqu3M4K5HEn",
        "outputId": "c74ff5f8-a308-4912-faa1-04484d1393de"
      },
      "outputs": [
        {
          "output_type": "stream",
          "name": "stdout",
          "text": [
            "Current working directory: /content/anomaly-detection-in-HEP/code\n"
          ]
        }
      ],
      "source": [
        "import os\n",
        "\n",
        "# Define your workspace directory\n",
        "workspace_dir = '/content/anomaly-detection-in-HEP/code'\n",
        "\n",
        "# Create the directory if it doesn't exist\n",
        "if not os.path.exists(workspace_dir):\n",
        "    os.makedirs(workspace_dir)\n",
        "\n",
        "# Change the current working directory to your workspace directory\n",
        "os.chdir(workspace_dir)\n",
        "\n",
        "# Verify the current working directory\n",
        "print('Current working directory:', os.getcwd())\n"
      ]
    },
    {
      "cell_type": "code",
      "execution_count": 3,
      "metadata": {
        "id": "ZyFrN6FwSwpZ"
      },
      "outputs": [],
      "source": [
        "# from preprocessing.dataset import dataset\n",
        "from torch.utils.data import DataLoader\n",
        "# from training.trainer import trainer\n",
        "# from models.vae import VAE, AE\n",
        "# from models.ode import ode\n",
        "# from evaluation.evaluator import evaluator\n",
        "import torch.optim as optim\n",
        "from sklearn.model_selection import train_test_split\n",
        "import json\n",
        "import torch\n",
        "import os\n",
        "import sys\n",
        "from copy import copy\n",
        "from torchsummary import summary\n",
        "from sklearn.tree import DecisionTreeClassifier\n",
        "from sklearn.metrics import accuracy_score\n",
        "\n",
        "import torch.nn as nn\n",
        "import torch.nn.functional as F\n",
        "from torch.autograd import Variable"
      ]
    },
    {
      "cell_type": "markdown",
      "metadata": {
        "id": "6MyJV60oV2ig"
      },
      "source": [
        "## Background data"
      ]
    },
    {
      "cell_type": "code",
      "execution_count": 14,
      "metadata": {
        "id": "kP64PiDMVUVY"
      },
      "outputs": [],
      "source": [
        "from google.cloud import storage\n",
        "from io import BytesIO\n",
        "import uproot\n",
        "\n",
        "def get_data_from_root(file_dir:str, bucket_name:str = 'cuda-programming-406720'):\n",
        "        client = storage.Client()\n",
        "        bucket = client.get_bucket(bucket_name)\n",
        "        blob = bucket.blob(file_dir)\n",
        "        file_contents = BytesIO(blob.download_as_string())\n",
        "        tree = uproot.open(file_contents)\n",
        "        data = tree['Delphes']\n",
        "        return data\n",
        "\n",
        "data_file = 'QCD_LLP_samples/root-files/qcd_100k.root'\n",
        "data = get_data_from_root(data_file)\n",
        "features = ['Track.PT', 'Track.Eta', 'Track.Phi', 'Track.D0', 'Track.DZ']"
      ]
    },
    {
      "cell_type": "code",
      "execution_count": 15,
      "metadata": {
        "id": "SpfrDzH2Vg5p"
      },
      "outputs": [],
      "source": [
        "from itertools import chain\n",
        "import numpy as np\n",
        "from matplotlib import pyplot as plt\n",
        "import seaborn as sns\n",
        "\n",
        "data_train = []\n",
        "data_test = []\n",
        "data_test2 = []\n",
        "for i in range(5):\n",
        "  d = data['Track'][features[i]].array().tolist()\n",
        "  d = list(chain.from_iterable(d))\n",
        "  data_train.append(d[:100_000])\n",
        "  data_test2.append(d[100_000:110_000])\n",
        "  data_test.append(d[-10_000:])\n",
        "data_bkg_train = torch.tensor(data_train).T\n",
        "data_bkg_test = torch.tensor(data_test).T\n",
        "data_bkg_test2 = torch.tensor(data_test).T\n",
        "del data, data_train, data_test, data_test2"
      ]
    },
    {
      "cell_type": "code",
      "execution_count": 16,
      "metadata": {
        "colab": {
          "base_uri": "https://localhost:8080/"
        },
        "id": "7vS44wutkpLF",
        "outputId": "b208976a-5f63-4f50-f688-272a2455dbb5"
      },
      "outputs": [
        {
          "output_type": "stream",
          "name": "stdout",
          "text": [
            "Train shape: torch.Size([100000, 5])\n",
            "Valid shape: torch.Size([10000, 5])\n"
          ]
        }
      ],
      "source": [
        "means = data_bkg_train.mean(dim=0)\n",
        "stds = data_bkg_train.std(dim=0)\n",
        "\n",
        "data_bkg_train = (data_bkg_train - means) / stds\n",
        "data_bkg_test =(data_bkg_test - means) / stds\n",
        "data_bkg_test2 = (data_bkg_test2 - means)/stds\n",
        "print(\"Train shape:\", data_bkg_train.shape)\n",
        "print(\"Valid shape:\", data_bkg_test.shape)"
      ]
    },
    {
      "cell_type": "markdown",
      "metadata": {
        "id": "Azoegak2V513"
      },
      "source": [
        "## Signal data"
      ]
    },
    {
      "cell_type": "code",
      "execution_count": 17,
      "metadata": {
        "id": "IcEmF7waV7T4"
      },
      "outputs": [],
      "source": [
        "import h5py\n",
        "def get_data_from_h5(file_dir:str, bucket_name:str = 'cuda-programming-406720'):\n",
        "        client = storage.Client()\n",
        "        bucket = client.get_bucket(bucket_name)\n",
        "        blob = bucket.blob(file_dir)\n",
        "        file_contents = BytesIO(blob.download_as_string())\n",
        "        with h5py.File(file_contents, 'r') as f:\n",
        "            dataset = f['Track']\n",
        "            data = dataset[:10_000]\n",
        "            d1 = dataset[:10_000]\n",
        "            d2 = dataset[10_000:10_500]\n",
        "        return d1, d2"
      ]
    },
    {
      "cell_type": "code",
      "execution_count": 18,
      "metadata": {
        "id": "XbOyxMuZZE_0"
      },
      "outputs": [],
      "source": [
        "sig1_train, sig1_test = get_data_from_h5('QCD_LLP_samples/h5-files/500GeV_n3_events_100k_1mm_pileup.h5')\n",
        "sig2_train, sig2_test = get_data_from_h5('QCD_LLP_samples/h5-files/100GeV_n3_events_100k_1mm_pileup.h5')"
      ]
    },
    {
      "cell_type": "code",
      "execution_count": 19,
      "metadata": {
        "id": "TjrdapG4ZZx4"
      },
      "outputs": [],
      "source": [
        "data_sig_train = np.concatenate((sig1_train,sig2_train))\n",
        "data_sig_test = np.concatenate((sig1_test,sig2_test))"
      ]
    },
    {
      "cell_type": "code",
      "execution_count": 20,
      "metadata": {
        "id": "laaZB3YUaXoq"
      },
      "outputs": [],
      "source": [
        "data_sig_train = torch.tensor([list(data_sig_train[i]) for i in range(data_sig_train.shape[0])])\n",
        "data_sig_test = torch.tensor([list(data_sig_test[i]) for i in range(data_sig_test.shape[0])])"
      ]
    },
    {
      "cell_type": "code",
      "execution_count": 21,
      "metadata": {
        "colab": {
          "base_uri": "https://localhost:8080/"
        },
        "id": "g94g-bb1kSaE",
        "outputId": "19987aa6-f468-4897-c1e8-e1ec33a1299b"
      },
      "outputs": [
        {
          "output_type": "stream",
          "name": "stdout",
          "text": [
            "Train shape: torch.Size([20000, 5])\n",
            "Test shape: torch.Size([1000, 5])\n"
          ]
        }
      ],
      "source": [
        "data_sig_train = (data_sig_train - means) / stds\n",
        "data_sig_test =(data_sig_test - means) / stds\n",
        "\n",
        "print(\"Train shape:\", data_sig_train.shape)\n",
        "print(\"Test shape:\", data_sig_test.shape)"
      ]
    },
    {
      "cell_type": "markdown",
      "metadata": {
        "id": "oRq4xUM8UILv"
      },
      "source": [
        "# Train VAE model"
      ]
    },
    {
      "cell_type": "code",
      "execution_count": 7,
      "metadata": {
        "id": "u4K9qrjRTcz1"
      },
      "outputs": [],
      "source": [
        "BATCH_SIZE = 5058\n",
        "DROPOUT_RATE = 0.01\n",
        "beta = 0.0\n",
        "lr = 1e-2\n",
        "latent_dim = 2\n",
        "num_epochs = 70\n",
        "\n",
        "class VAE(nn.Module):\n",
        "    def __init__(self, input_dim, latent_dim):\n",
        "        super(VAE, self).__init__()\n",
        "\n",
        "        self.fc1 = nn.Linear(in_features=input_dim, out_features=512)\n",
        "        self.fc21 = nn.Linear(in_features=512, out_features=latent_dim)\n",
        "        self.fc22 = nn.Linear(in_features=512, out_features=latent_dim)\n",
        "        self.fc3 = nn.Linear(in_features=latent_dim, out_features=512)\n",
        "        self.fc4 = nn.Linear(in_features=512, out_features=input_dim)\n",
        "        self.relu = nn.ReLU()\n",
        "        self.tanh = nn.Tanh()\n",
        "        self.dropout = nn.Dropout(DROPOUT_RATE)\n",
        "\n",
        "    def encode(self, x):\n",
        "        h1 = self.dropout(self.relu(self.fc1(x)))\n",
        "        return self.dropout(self.fc21(h1)), self.dropout(self.fc22(h1))\n",
        "\n",
        "    def reparameterize(self, mu, logvar):\n",
        "        if self.training:\n",
        "            std = torch.exp(0.5*logvar)\n",
        "            eps = torch.randn_like(std)\n",
        "            return mu + eps*std\n",
        "        else:\n",
        "            return mu\n",
        "\n",
        "    def decode(self, z):\n",
        "        h3 = self.relu(self.fc3(z))\n",
        "        return self.tanh(self.dropout(self.fc4(h3)))\n",
        "\n",
        "    def forward(self, x):\n",
        "        mu, logvar = self.encode(x)\n",
        "        z = self.reparameterize(mu, logvar)\n",
        "        return self.decode(z), mu, logvar\n",
        "\n",
        "    def loss_function(self, recon_x, x, mu, logvar):\n",
        "        recon_loss = torch.mean(torch.pow(recon_x - x, 2)) #/ BATCH_SIZE\n",
        "        kl_loss = -0.5 * torch.mean(1 + logvar - mu.pow(2) - logvar.exp()) #/ BATCH_SIZE\n",
        "        return (1-beta)*recon_loss + beta*kl_loss\n",
        "\n",
        "\n",
        "class AE(nn.Module):\n",
        "    def __init__(self, input_dim, latent_dim, dropout_rate=0.1):\n",
        "        super(AE, self).__init__()\n",
        "\n",
        "        self.fc1 = nn.Linear(in_features=input_dim, out_features=512)\n",
        "        self.fc2 = nn.Linear(in_features=512, out_features=latent_dim)\n",
        "        self.fc3 = nn.Linear(in_features=latent_dim, out_features=512)\n",
        "        self.fc4 = nn.Linear(in_features=512, out_features=input_dim)\n",
        "        self.relu = nn.ReLU()\n",
        "        self.tanh = nn.Tanh()\n",
        "        self.dropout = nn.Dropout(dropout_rate)\n",
        "\n",
        "    def encode(self, x):\n",
        "        h1 = self.dropout(self.relu(self.fc1(x)))\n",
        "        return self.dropout(self.fc2(h1))\n",
        "\n",
        "    def decode(self, z):\n",
        "        h3 = self.relu(self.fc3(z))\n",
        "        return self.tanh(self.dropout(self.fc4(h3)))\n",
        "\n",
        "    def forward(self, x):\n",
        "        z = self.encode(x)\n",
        "        return self.decode(z)\n",
        "\n",
        "    def loss_function(self, recon_x, x):\n",
        "        recon_loss = torch.mean(torch.pow(recon_x - x, 2))  # Mean Squared Error Loss\n",
        "        return recon_loss"
      ]
    },
    {
      "cell_type": "code",
      "source": [
        "from torchsummary import summary\n",
        "\n",
        "device = torch.device(\"cuda\" if torch.cuda.is_available() else \"cpu\")\n",
        "model_vae = AE(input_dim=5, latent_dim=latent_dim)\n",
        "model_vae = model_vae.to(device)\n",
        "summary(model_vae, input_size=(5,))"
      ],
      "metadata": {
        "colab": {
          "base_uri": "https://localhost:8080/"
        },
        "id": "7LXfsKVjZVMo",
        "outputId": "964c6832-b5d5-45a2-cce4-a8217d4d665f"
      },
      "execution_count": 8,
      "outputs": [
        {
          "output_type": "stream",
          "name": "stdout",
          "text": [
            "----------------------------------------------------------------\n",
            "        Layer (type)               Output Shape         Param #\n",
            "================================================================\n",
            "            Linear-1                  [-1, 512]           3,072\n",
            "              ReLU-2                  [-1, 512]               0\n",
            "           Dropout-3                  [-1, 512]               0\n",
            "            Linear-4                    [-1, 2]           1,026\n",
            "           Dropout-5                    [-1, 2]               0\n",
            "            Linear-6                  [-1, 512]           1,536\n",
            "              ReLU-7                  [-1, 512]               0\n",
            "            Linear-8                    [-1, 5]           2,565\n",
            "           Dropout-9                    [-1, 5]               0\n",
            "             Tanh-10                    [-1, 5]               0\n",
            "================================================================\n",
            "Total params: 8,199\n",
            "Trainable params: 8,199\n",
            "Non-trainable params: 0\n",
            "----------------------------------------------------------------\n",
            "Input size (MB): 0.00\n",
            "Forward/backward pass size (MB): 0.02\n",
            "Params size (MB): 0.03\n",
            "Estimated Total Size (MB): 0.05\n",
            "----------------------------------------------------------------\n"
          ]
        }
      ]
    },
    {
      "cell_type": "code",
      "source": [
        "from datetime import datetime\n",
        "\n",
        "train_loader = DataLoader(data_bkg_train, batch_size=BATCH_SIZE, shuffle=True, num_workers=10)\n",
        "valid_loader = DataLoader(data_bkg_test, batch_size=BATCH_SIZE, shuffle=False, num_workers=10)\n",
        "optimizer=optim.Adam(model_vae.parameters(), lr=lr)\n",
        "\n",
        "train_losses = []\n",
        "valid_losses = []\n",
        "for epoch in range(num_epochs):\n",
        "  starting_time = datetime.now()\n",
        "  epoch_train_loss = 0.0\n",
        "  epoch_valid_loss = 0.0\n",
        "\n",
        "  # Training\n",
        "  model_vae.train()\n",
        "  for inputs in train_loader:\n",
        "    optimizer.zero_grad()\n",
        "    inputs = inputs.to(device)\n",
        "    inputs_recon = model_vae(inputs)\n",
        "    inputs_recon = inputs_recon.to(device)\n",
        "    train_loss = model_vae.loss_function(inputs, inputs_recon)\n",
        "    # inputs_recon, mu, logvar = model_vae(inputs)\n",
        "    # inputs_recon, mu, logvar = inputs_recon.to(device), mu.to(device), logvar.to(device)\n",
        "    # train_loss = model_vae.loss_function(inputs, inputs_recon, mu, logvar)\n",
        "    train_loss.backward()\n",
        "    optimizer.step()\n",
        "    epoch_train_loss += train_loss.item()\n",
        "\n",
        "  # Validation\n",
        "  # model_vae.eval()\n",
        "  # with torch.no_grad():\n",
        "  for data in valid_loader:\n",
        "        x = data\n",
        "        inputs = x.to(device)\n",
        "        inputs_recon = model_vae(inputs)\n",
        "        inputs_recon = inputs_recon.to(device)\n",
        "        valid_loss = model_vae.loss_function(inputs, inputs_recon)\n",
        "        # x_recon, mu, logvar = model_vae(inputs)\n",
        "        # valid_loss = model_vae.loss_function(inputs, x_recon, mu, logvar)\n",
        "        epoch_valid_loss += valid_loss.item()\n",
        "\n",
        "  epoch_train_loss /= len(train_loader)\n",
        "  epoch_valid_loss /= len(valid_loader)\n",
        "\n",
        "  train_losses.append(epoch_train_loss)\n",
        "  valid_losses.append(epoch_valid_loss)\n",
        "\n",
        "  time_elapsed = datetime.now() - starting_time\n",
        "  print('Epoch: {}, Train len batch: {}, Train loss: {:.4f}, Valid loss: {:.4f}, Time elapsed (hh:mm:ss.ms) {}'.format(\n",
        "                    epoch,len(train_loader) ,epoch_train_loss, epoch_valid_loss, time_elapsed\n",
        "  ))\n"
      ],
      "metadata": {
        "colab": {
          "base_uri": "https://localhost:8080/"
        },
        "id": "mtRKxFgRaXQK",
        "outputId": "f0a93ad9-2255-44af-d4d0-14ae3655e4ca"
      },
      "execution_count": 10,
      "outputs": [
        {
          "output_type": "stream",
          "name": "stdout",
          "text": [
            "Epoch: 0, Train len batch: 20, Train loss: 0.8388, Valid loss: 0.6754, Time elapsed (hh:mm:ss.ms) 0:00:04.472315\n",
            "Epoch: 1, Train len batch: 20, Train loss: 0.6599, Valid loss: 0.5906, Time elapsed (hh:mm:ss.ms) 0:00:04.535093\n",
            "Epoch: 2, Train len batch: 20, Train loss: 0.6252, Valid loss: 0.5756, Time elapsed (hh:mm:ss.ms) 0:00:04.480972\n",
            "Epoch: 3, Train len batch: 20, Train loss: 0.6099, Valid loss: 0.5631, Time elapsed (hh:mm:ss.ms) 0:00:04.498242\n",
            "Epoch: 4, Train len batch: 20, Train loss: 0.6091, Valid loss: 0.5678, Time elapsed (hh:mm:ss.ms) 0:00:04.443836\n",
            "Epoch: 5, Train len batch: 20, Train loss: 0.6026, Valid loss: 0.5543, Time elapsed (hh:mm:ss.ms) 0:00:04.496172\n",
            "Epoch: 6, Train len batch: 20, Train loss: 0.5968, Valid loss: 0.5542, Time elapsed (hh:mm:ss.ms) 0:00:04.464682\n",
            "Epoch: 7, Train len batch: 20, Train loss: 0.5942, Valid loss: 0.5536, Time elapsed (hh:mm:ss.ms) 0:00:04.480006\n",
            "Epoch: 8, Train len batch: 20, Train loss: 0.5943, Valid loss: 0.5561, Time elapsed (hh:mm:ss.ms) 0:00:04.490136\n",
            "Epoch: 9, Train len batch: 20, Train loss: 0.5854, Valid loss: 0.5483, Time elapsed (hh:mm:ss.ms) 0:00:04.510126\n",
            "Epoch: 10, Train len batch: 20, Train loss: 0.5840, Valid loss: 0.5545, Time elapsed (hh:mm:ss.ms) 0:00:04.494210\n",
            "Epoch: 11, Train len batch: 20, Train loss: 0.5917, Valid loss: 0.5440, Time elapsed (hh:mm:ss.ms) 0:00:04.517427\n",
            "Epoch: 12, Train len batch: 20, Train loss: 0.5854, Valid loss: 0.5443, Time elapsed (hh:mm:ss.ms) 0:00:04.492946\n",
            "Epoch: 13, Train len batch: 20, Train loss: 0.5806, Valid loss: 0.5404, Time elapsed (hh:mm:ss.ms) 0:00:04.503925\n",
            "Epoch: 14, Train len batch: 20, Train loss: 0.5794, Valid loss: 0.5455, Time elapsed (hh:mm:ss.ms) 0:00:04.483473\n",
            "Epoch: 15, Train len batch: 20, Train loss: 0.5761, Valid loss: 0.5413, Time elapsed (hh:mm:ss.ms) 0:00:04.507423\n",
            "Epoch: 16, Train len batch: 20, Train loss: 0.5826, Valid loss: 0.5391, Time elapsed (hh:mm:ss.ms) 0:00:04.514910\n",
            "Epoch: 17, Train len batch: 20, Train loss: 0.5774, Valid loss: 0.5365, Time elapsed (hh:mm:ss.ms) 0:00:04.520802\n",
            "Epoch: 18, Train len batch: 20, Train loss: 0.5772, Valid loss: 0.5379, Time elapsed (hh:mm:ss.ms) 0:00:04.568267\n",
            "Epoch: 19, Train len batch: 20, Train loss: 0.5723, Valid loss: 0.5377, Time elapsed (hh:mm:ss.ms) 0:00:04.536095\n",
            "Epoch: 20, Train len batch: 20, Train loss: 0.5705, Valid loss: 0.5344, Time elapsed (hh:mm:ss.ms) 0:00:04.536401\n",
            "Epoch: 21, Train len batch: 20, Train loss: 0.5716, Valid loss: 0.5353, Time elapsed (hh:mm:ss.ms) 0:00:04.559687\n",
            "Epoch: 22, Train len batch: 20, Train loss: 0.5695, Valid loss: 0.5323, Time elapsed (hh:mm:ss.ms) 0:00:04.552093\n",
            "Epoch: 23, Train len batch: 20, Train loss: 0.5699, Valid loss: 0.5351, Time elapsed (hh:mm:ss.ms) 0:00:04.536216\n",
            "Epoch: 24, Train len batch: 20, Train loss: 0.5686, Valid loss: 0.5343, Time elapsed (hh:mm:ss.ms) 0:00:04.517199\n",
            "Epoch: 25, Train len batch: 20, Train loss: 0.5678, Valid loss: 0.5393, Time elapsed (hh:mm:ss.ms) 0:00:04.532141\n",
            "Epoch: 26, Train len batch: 20, Train loss: 0.5733, Valid loss: 0.5384, Time elapsed (hh:mm:ss.ms) 0:00:04.537402\n",
            "Epoch: 27, Train len batch: 20, Train loss: 0.5756, Valid loss: 0.5287, Time elapsed (hh:mm:ss.ms) 0:00:04.508404\n",
            "Epoch: 28, Train len batch: 20, Train loss: 0.5718, Valid loss: 0.5302, Time elapsed (hh:mm:ss.ms) 0:00:04.544789\n",
            "Epoch: 29, Train len batch: 20, Train loss: 0.5674, Valid loss: 0.5312, Time elapsed (hh:mm:ss.ms) 0:00:04.519529\n",
            "Epoch: 30, Train len batch: 20, Train loss: 0.5689, Valid loss: 0.5289, Time elapsed (hh:mm:ss.ms) 0:00:04.464860\n",
            "Epoch: 31, Train len batch: 20, Train loss: 0.5717, Valid loss: 0.5296, Time elapsed (hh:mm:ss.ms) 0:00:04.509460\n",
            "Epoch: 32, Train len batch: 20, Train loss: 0.5659, Valid loss: 0.5326, Time elapsed (hh:mm:ss.ms) 0:00:04.536302\n",
            "Epoch: 33, Train len batch: 20, Train loss: 0.5699, Valid loss: 0.5340, Time elapsed (hh:mm:ss.ms) 0:00:04.524232\n",
            "Epoch: 34, Train len batch: 20, Train loss: 0.5704, Valid loss: 0.5304, Time elapsed (hh:mm:ss.ms) 0:00:04.535015\n",
            "Epoch: 35, Train len batch: 20, Train loss: 0.5663, Valid loss: 0.5362, Time elapsed (hh:mm:ss.ms) 0:00:04.534222\n",
            "Epoch: 36, Train len batch: 20, Train loss: 0.5701, Valid loss: 0.5263, Time elapsed (hh:mm:ss.ms) 0:00:04.513705\n",
            "Epoch: 37, Train len batch: 20, Train loss: 0.5681, Valid loss: 0.5301, Time elapsed (hh:mm:ss.ms) 0:00:04.504341\n",
            "Epoch: 38, Train len batch: 20, Train loss: 0.5678, Valid loss: 0.5296, Time elapsed (hh:mm:ss.ms) 0:00:04.608813\n",
            "Epoch: 39, Train len batch: 20, Train loss: 0.5678, Valid loss: 0.5326, Time elapsed (hh:mm:ss.ms) 0:00:04.564899\n",
            "Epoch: 40, Train len batch: 20, Train loss: 0.5672, Valid loss: 0.5281, Time elapsed (hh:mm:ss.ms) 0:00:04.533706\n",
            "Epoch: 41, Train len batch: 20, Train loss: 0.5640, Valid loss: 0.5304, Time elapsed (hh:mm:ss.ms) 0:00:04.551954\n",
            "Epoch: 42, Train len batch: 20, Train loss: 0.5638, Valid loss: 0.5320, Time elapsed (hh:mm:ss.ms) 0:00:04.537393\n",
            "Epoch: 43, Train len batch: 20, Train loss: 0.5653, Valid loss: 0.5309, Time elapsed (hh:mm:ss.ms) 0:00:04.517848\n",
            "Epoch: 44, Train len batch: 20, Train loss: 0.5693, Valid loss: 0.5282, Time elapsed (hh:mm:ss.ms) 0:00:04.567912\n",
            "Epoch: 45, Train len batch: 20, Train loss: 0.5644, Valid loss: 0.5352, Time elapsed (hh:mm:ss.ms) 0:00:04.538619\n",
            "Epoch: 46, Train len batch: 20, Train loss: 0.5665, Valid loss: 0.5323, Time elapsed (hh:mm:ss.ms) 0:00:04.539072\n",
            "Epoch: 47, Train len batch: 20, Train loss: 0.5634, Valid loss: 0.5312, Time elapsed (hh:mm:ss.ms) 0:00:04.547554\n",
            "Epoch: 48, Train len batch: 20, Train loss: 0.5665, Valid loss: 0.5234, Time elapsed (hh:mm:ss.ms) 0:00:04.636097\n",
            "Epoch: 49, Train len batch: 20, Train loss: 0.5645, Valid loss: 0.5338, Time elapsed (hh:mm:ss.ms) 0:00:04.738092\n",
            "Epoch: 50, Train len batch: 20, Train loss: 0.5677, Valid loss: 0.5302, Time elapsed (hh:mm:ss.ms) 0:00:04.634092\n",
            "Epoch: 51, Train len batch: 20, Train loss: 0.5652, Valid loss: 0.5289, Time elapsed (hh:mm:ss.ms) 0:00:04.610820\n",
            "Epoch: 52, Train len batch: 20, Train loss: 0.5642, Valid loss: 0.5260, Time elapsed (hh:mm:ss.ms) 0:00:04.700562\n",
            "Epoch: 53, Train len batch: 20, Train loss: 0.5658, Valid loss: 0.5327, Time elapsed (hh:mm:ss.ms) 0:00:04.630724\n",
            "Epoch: 54, Train len batch: 20, Train loss: 0.5656, Valid loss: 0.5306, Time elapsed (hh:mm:ss.ms) 0:00:04.666511\n",
            "Epoch: 55, Train len batch: 20, Train loss: 0.5672, Valid loss: 0.5323, Time elapsed (hh:mm:ss.ms) 0:00:04.594939\n",
            "Epoch: 56, Train len batch: 20, Train loss: 0.5644, Valid loss: 0.5280, Time elapsed (hh:mm:ss.ms) 0:00:04.518031\n",
            "Epoch: 57, Train len batch: 20, Train loss: 0.5660, Valid loss: 0.5313, Time elapsed (hh:mm:ss.ms) 0:00:04.466075\n",
            "Epoch: 58, Train len batch: 20, Train loss: 0.5641, Valid loss: 0.5374, Time elapsed (hh:mm:ss.ms) 0:00:04.531419\n",
            "Epoch: 59, Train len batch: 20, Train loss: 0.5665, Valid loss: 0.5284, Time elapsed (hh:mm:ss.ms) 0:00:04.593691\n",
            "Epoch: 60, Train len batch: 20, Train loss: 0.5653, Valid loss: 0.5250, Time elapsed (hh:mm:ss.ms) 0:00:04.501353\n",
            "Epoch: 61, Train len batch: 20, Train loss: 0.5667, Valid loss: 0.5303, Time elapsed (hh:mm:ss.ms) 0:00:04.491699\n",
            "Epoch: 62, Train len batch: 20, Train loss: 0.5656, Valid loss: 0.5289, Time elapsed (hh:mm:ss.ms) 0:00:04.506716\n",
            "Epoch: 63, Train len batch: 20, Train loss: 0.5633, Valid loss: 0.5284, Time elapsed (hh:mm:ss.ms) 0:00:04.498507\n",
            "Epoch: 64, Train len batch: 20, Train loss: 0.5641, Valid loss: 0.5343, Time elapsed (hh:mm:ss.ms) 0:00:04.543769\n",
            "Epoch: 65, Train len batch: 20, Train loss: 0.5660, Valid loss: 0.5269, Time elapsed (hh:mm:ss.ms) 0:00:04.536647\n",
            "Epoch: 66, Train len batch: 20, Train loss: 0.5639, Valid loss: 0.5309, Time elapsed (hh:mm:ss.ms) 0:00:04.470254\n",
            "Epoch: 67, Train len batch: 20, Train loss: 0.5666, Valid loss: 0.5299, Time elapsed (hh:mm:ss.ms) 0:00:04.498485\n",
            "Epoch: 68, Train len batch: 20, Train loss: 0.5659, Valid loss: 0.5304, Time elapsed (hh:mm:ss.ms) 0:00:04.545761\n",
            "Epoch: 69, Train len batch: 20, Train loss: 0.5640, Valid loss: 0.5289, Time elapsed (hh:mm:ss.ms) 0:00:04.549921\n"
          ]
        }
      ]
    },
    {
      "cell_type": "code",
      "source": [
        "plt.plot(train_losses, label=\"train\")\n",
        "plt.plot(valid_losses, label=\"validation\")\n",
        "plt.legend()"
      ],
      "metadata": {
        "colab": {
          "base_uri": "https://localhost:8080/",
          "height": 448
        },
        "id": "ctpUbeWM1iv8",
        "outputId": "d1c34853-b162-426a-8f93-31faa1772d72"
      },
      "execution_count": 12,
      "outputs": [
        {
          "output_type": "execute_result",
          "data": {
            "text/plain": [
              "<matplotlib.legend.Legend at 0x7fc7d37222c0>"
            ]
          },
          "metadata": {},
          "execution_count": 12
        },
        {
          "output_type": "display_data",
          "data": {
            "text/plain": [
              "<Figure size 640x480 with 1 Axes>"
            ],
            "image/png": "[encoded data removed]"
          },
          "metadata": {}
        }
      ]
    },
    {
      "cell_type": "markdown",
      "source": [
        "# Test the model"
      ],
      "metadata": {
        "id": "NaOJtXWA3xdZ"
      }
    },
    {
      "cell_type": "code",
      "source": [
        "bkg_mse = []\n",
        "for x in data_bkg_test2:\n",
        "  x = x.to(device)\n",
        "  output = model_vae(x)\n",
        "  mse = model_vae.loss_function(x, output)\n",
        "  bkg_mse.append(mse.item())"
      ],
      "metadata": {
        "id": "KQJD1zzB16jD"
      },
      "execution_count": 30,
      "outputs": []
    },
    {
      "cell_type": "code",
      "source": [
        "sig_mse = []\n",
        "for x in data_sig_train:\n",
        "  x = x.to(device)\n",
        "  output = model_vae(x)\n",
        "  mse = model_vae.loss_function(x, output)\n",
        "  sig_mse.append(mse.item())"
      ],
      "metadata": {
        "id": "w3_rfyp24VWc"
      },
      "execution_count": 29,
      "outputs": []
    },
    {
      "cell_type": "code",
      "source": [
        "import seaborn as sns\n",
        "import pandas as pd\n",
        "\n",
        "hist_data = pd.DataFrame({'mse': bkg_mse+sig_mse, 'label': ['background']*len(bkg_mse) + ['signal']*len(sig_mse)})\n",
        "sns.histplot(data=hist_data, x='mse', hue='label', stat='density')\n",
        "plt.xlim((0,3))\n",
        "plt.show()"
      ],
      "metadata": {
        "colab": {
          "base_uri": "https://localhost:8080/",
          "height": 449
        },
        "id": "uyoP5JHk6n76",
        "outputId": "edfa9787-c0c4-4112-a383-6a7b22e47416"
      },
      "execution_count": 52,
      "outputs": [
        {
          "output_type": "display_data",
          "data": {
            "text/plain": [
              "<Figure size 640x480 with 1 Axes>"
            ],
            "image/png": "[encoded data removed]"
          },
          "metadata": {}
        }
      ]
    }
  ],
  "metadata": {
    "colab": {
      "gpuType": "T4",
      "provenance": [],
      "collapsed_sections": [
        "Azoegak2V513"
      ]
    },
    "kernelspec": {
      "display_name": "Python 3",
      "name": "python3"
    },
    "language_info": {
      "name": "python"
    }
  },
  "nbformat": 4,
  "nbformat_minor": 0
}