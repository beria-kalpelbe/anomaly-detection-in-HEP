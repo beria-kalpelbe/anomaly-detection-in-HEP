{
 "cells": [
  {
   "cell_type": "code",
   "execution_count": 2,
   "metadata": {},
   "outputs": [
    {
     "name": "stdout",
     "output_type": "stream",
     "text": [
      "<Bucket: cuda-programming-406720>\n",
      "b'x,y\\n5.4881350392732475,29.65450786127179\\n7.151893663724195,34.99358978951999\\n6.027633760716439,35.99427342345802\\n5.448831829968968,24.815775427356154\\n4.236547993389047,21.034959534504537\\n6.458941130666561,29.44885970151621\\n4.375872112626925,26.03457170516168\\n8.917730007820797,40.20383605668101\\n9.636627605010293,45.209618148604235\\n3.8344151882577773,19.781916673047135\\n7.917250380826646,35.25869735976178\\n5.288949197529044,24.25954820175923\\n5.680445610939323,31.285078338410024\\n9.25596638292661,40.40569504519258\\n0.7103605819788694,6.807265944716013\\n0.8712929970154071,9.17242369467127\\n0.2021839744032572,11.018668196092381\\n8.32619845547938,36.27580657984814\\n7.781567509498505,41.50571911298206\\n8.700121482468191,37.761470008812395\\n9.78618342232764,50.90932833944452\\n7.9915856421672355,38.65285458514596\\n4.6147936225293185,30.226785372020643\\n7.805291762864554,39.269622248908675\\n1.1827442586893322,14.123612828740345\\n6.399210213275238,27.98871877564416\\n1.433532874090464,10.562201122125952\\n9.446689170495839,40.98872229411504\\n5.218483217500717,25.835334845224317\\n4.146619399905235,19.773754789163384\\n2.64555612104627,15.76205627812484\\n7.742336894342166,37.11197752251537\\n4.5615033221654855,20.887488252149787\\n5.684339488686485,31.66207914844614\\n0.18789800436355142,8.417606559519957\\n6.176354970758771,29.359314792429537\\n6.120957227224214,31.716309443563855\\n6.169339968747569,27.616764982574693\\n9.437480785146242,45.509388096146765\\n6.818202991034834,38.565773939901476\\n3.59507900573786,19.566005547464677\\n4.3703195379934145,26.155381951610476\\n6.976311959272649,31.223226461134516\\n0.6022547162926983,11.572290906356448\\n6.667667154456677,31.564729547298718\\n6.706378696181594,30.657428404797546\\n2.103825610738409,16.28043179105447\\n1.289262976548533,7.358127368069068\\n3.1542835092418384,22.906534329140985\\n3.637107709426226,16.595385599630376\\n'\n"
     ]
    }
   ],
   "source": [
    "import google.auth\n",
    "from google.cloud import storage\n",
    "import json\n",
    "import pandas as pd\n",
    "\n",
    "credentials, project = google.auth.default()  \n",
    "#List buckets using the default account on the current gcloud cli\n",
    "client = storage.Client(credentials=credentials)\n",
    "buckets = client.list_buckets()\n",
    "for bucket in buckets:\n",
    "    print(bucket)\n",
    "\n",
    "#custom function to read data from cvs/sql/excel/xml file\n",
    "def read_file_gcs(bucket_name, general_file_name):\n",
    "    \"\"\"\n",
    "    Read a file from the bucket\n",
    "    \"\"\"\n",
    "\n",
    "    # create storage client\n",
    "    client = storage.Client()\n",
    "    # get bucket with name\n",
    "    BUCKET= client.get_bucket(bucket_name)\n",
    "    # get bucket data as blob\n",
    "    blob = BUCKET.blob(general_file_name)\n",
    "    assert blob.exists()  # Will be false if the next line would raise NotFound\n",
    "    # convert to string\n",
    "    data = blob.download_as_string()\n",
    "    return data\n",
    "\n",
    "bucket_name = \"cuda-programming-406720\"\n",
    "general_file_name = \"tutorial_1.csv\"  #cloudsql/table_creation.sql  sample.yml\n",
    "data = read_file_gcs(bucket_name, general_file_name)\n",
    "print(data)"
   ]
  },
  {
   "cell_type": "code",
   "execution_count": 2,
   "metadata": {},
   "outputs": [],
   "source": [
    "import h5py\n",
    "from google.cloud import storage\n",
    "from io import BytesIO\n",
    "\n",
    "# Replace 'your_bucket_name' and 'your_file_name.h5' with your actual bucket and file names\n",
    "bucket_name = 'cuda-programming-406720'\n",
    "file_name = 'QCD_LLP_samples/h5-files/100GeV_n3_events_100k_1mm_pileup.h5'\n",
    "\n",
    "# Initialize a client\n",
    "client = storage.Client()\n",
    "\n",
    "# Get the bucket\n",
    "bucket = client.get_bucket(bucket_name)\n",
    "\n",
    "# Get the blob (file) from the bucket\n",
    "blob = bucket.blob(file_name)\n",
    "\n",
    "# Read the file directly into memory\n",
    "file_contents = BytesIO(blob.download_as_string())\n",
    "\n",
    "# Open the .h5 file using h5py\n",
    "with h5py.File(file_contents, 'r') as f:\n",
    "    # Now you can read datasets, attributes, etc. from the file\n",
    "    dataset = f['Track']  # Replace 'dataset_name' with the actual dataset name\n",
    "    data = dataset[:]  # Read the entire dataset into memory (you can also read specific parts)"
   ]
  },
  {
   "cell_type": "code",
   "execution_count": 7,
   "metadata": {},
   "outputs": [
    {
     "ename": "AttributeError",
     "evalue": "partially initialized module 'jax' has no attribute 'version' (most likely due to a circular import)",
     "output_type": "error",
     "traceback": [
      "\u001b[0;31m---------------------------------------------------------------------------\u001b[0m",
      "\u001b[0;31mAttributeError\u001b[0m                            Traceback (most recent call last)",
      "Cell \u001b[0;32mIn[7], line 1\u001b[0m\n\u001b[0;32m----> 1\u001b[0m \u001b[38;5;28;01mimport\u001b[39;00m \u001b[38;5;21;01mjax\u001b[39;00m\u001b[38;5;21;01m.\u001b[39;00m\u001b[38;5;21;01mnumpy\u001b[39;00m \u001b[38;5;28;01mas\u001b[39;00m \u001b[38;5;21;01mjnp\u001b[39;00m\n\u001b[1;32m      3\u001b[0m \u001b[38;5;66;03m# Assuming `data` is your NumPy array or Python iterable\u001b[39;00m\n\u001b[1;32m      4\u001b[0m jax_array \u001b[38;5;241m=\u001b[39m jnp\u001b[38;5;241m.\u001b[39marray(data)\n",
      "File \u001b[0;32m~/Documents/anomaly-detection/venv/lib/python3.12/site-packages/jax/__init__.py:37\u001b[0m\n\u001b[1;32m     34\u001b[0m \u001b[38;5;28;01mdel\u001b[39;00m _cloud_tpu_init\n\u001b[1;32m     36\u001b[0m \u001b[38;5;66;03m# Force early import, allowing use of `jax.core` after importing `jax`.\u001b[39;00m\n\u001b[0;32m---> 37\u001b[0m \u001b[38;5;28;01mimport\u001b[39;00m \u001b[38;5;21;01mjax\u001b[39;00m\u001b[38;5;21;01m.\u001b[39;00m\u001b[38;5;21;01mcore\u001b[39;00m \u001b[38;5;28;01mas\u001b[39;00m \u001b[38;5;21;01m_core\u001b[39;00m\n\u001b[1;32m     38\u001b[0m \u001b[38;5;28;01mdel\u001b[39;00m _core\n\u001b[1;32m     40\u001b[0m \u001b[38;5;66;03m# Note: import <name> as <name> is required for names to be exported.\u001b[39;00m\n\u001b[1;32m     41\u001b[0m \u001b[38;5;66;03m# See PEP 484 & https://github.com/google/jax/issues/7570\u001b[39;00m\n",
      "File \u001b[0;32m~/Documents/anomaly-detection/venv/lib/python3.12/site-packages/jax/core.py:18\u001b[0m\n\u001b[1;32m      1\u001b[0m \u001b[38;5;66;03m# Copyright 2022 The JAX Authors.\u001b[39;00m\n\u001b[1;32m      2\u001b[0m \u001b[38;5;66;03m#\u001b[39;00m\n\u001b[1;32m      3\u001b[0m \u001b[38;5;66;03m# Licensed under the Apache License, Version 2.0 (the \"License\");\u001b[39;00m\n\u001b[0;32m   (...)\u001b[0m\n\u001b[1;32m     15\u001b[0m \u001b[38;5;66;03m# Note: import <name> as <name> is required for names to be exported.\u001b[39;00m\n\u001b[1;32m     16\u001b[0m \u001b[38;5;66;03m# See PEP 484 & https://github.com/google/jax/issues/7570\u001b[39;00m\n\u001b[0;32m---> 18\u001b[0m \u001b[38;5;28;01mfrom\u001b[39;00m \u001b[38;5;21;01mjax\u001b[39;00m\u001b[38;5;21;01m.\u001b[39;00m\u001b[38;5;21;01m_src\u001b[39;00m\u001b[38;5;21;01m.\u001b[39;00m\u001b[38;5;21;01mcore\u001b[39;00m \u001b[38;5;28;01mimport\u001b[39;00m (\n\u001b[1;32m     19\u001b[0m   AbstractToken \u001b[38;5;28;01mas\u001b[39;00m AbstractToken,\n\u001b[1;32m     20\u001b[0m   AbstractValue \u001b[38;5;28;01mas\u001b[39;00m AbstractValue,\n\u001b[1;32m     21\u001b[0m   Atom \u001b[38;5;28;01mas\u001b[39;00m Atom,\n\u001b[1;32m     22\u001b[0m   AxisSize \u001b[38;5;28;01mas\u001b[39;00m AxisSize,\n\u001b[1;32m     23\u001b[0m   CallPrimitive \u001b[38;5;28;01mas\u001b[39;00m CallPrimitive,\n\u001b[1;32m     24\u001b[0m   ClosedJaxpr \u001b[38;5;28;01mas\u001b[39;00m ClosedJaxpr,\n\u001b[1;32m     25\u001b[0m   ConcreteArray \u001b[38;5;28;01mas\u001b[39;00m ConcreteArray,\n\u001b[1;32m     26\u001b[0m   ConcretizationTypeError \u001b[38;5;28;01mas\u001b[39;00m ConcretizationTypeError,\n\u001b[1;32m     27\u001b[0m   DShapedArray \u001b[38;5;28;01mas\u001b[39;00m DShapedArray,\n\u001b[1;32m     28\u001b[0m   DropVar \u001b[38;5;28;01mas\u001b[39;00m DropVar,\n\u001b[1;32m     29\u001b[0m   Effect \u001b[38;5;28;01mas\u001b[39;00m Effect,\n\u001b[1;32m     30\u001b[0m   Effects \u001b[38;5;28;01mas\u001b[39;00m Effects,\n\u001b[1;32m     31\u001b[0m   EvalTrace \u001b[38;5;28;01mas\u001b[39;00m EvalTrace,\n\u001b[1;32m     32\u001b[0m   InDBIdx \u001b[38;5;28;01mas\u001b[39;00m InDBIdx,\n\u001b[1;32m     33\u001b[0m   InconclusiveDimensionOperation \u001b[38;5;28;01mas\u001b[39;00m InconclusiveDimensionOperation,\n\u001b[1;32m     34\u001b[0m   InputType \u001b[38;5;28;01mas\u001b[39;00m InputType,\n\u001b[1;32m     35\u001b[0m   Jaxpr \u001b[38;5;28;01mas\u001b[39;00m Jaxpr,\n\u001b[1;32m     36\u001b[0m   JaxprDebugInfo \u001b[38;5;28;01mas\u001b[39;00m JaxprDebugInfo,\n\u001b[1;32m     37\u001b[0m   JaxprEqn \u001b[38;5;28;01mas\u001b[39;00m JaxprEqn,\n\u001b[1;32m     38\u001b[0m   JaxprPpContext \u001b[38;5;28;01mas\u001b[39;00m JaxprPpContext,\n\u001b[1;32m     39\u001b[0m   JaxprPpSettings \u001b[38;5;28;01mas\u001b[39;00m JaxprPpSettings,\n\u001b[1;32m     40\u001b[0m   JaxprTypeError \u001b[38;5;28;01mas\u001b[39;00m JaxprTypeError,\n\u001b[1;32m     41\u001b[0m   Literal \u001b[38;5;28;01mas\u001b[39;00m Literal,\n\u001b[1;32m     42\u001b[0m   MainTrace \u001b[38;5;28;01mas\u001b[39;00m MainTrace,\n\u001b[1;32m     43\u001b[0m   MapPrimitive \u001b[38;5;28;01mas\u001b[39;00m MapPrimitive,\n\u001b[1;32m     44\u001b[0m   NameGatheringSubst \u001b[38;5;28;01mas\u001b[39;00m NameGatheringSubst,\n\u001b[1;32m     45\u001b[0m   NamedShape \u001b[38;5;28;01mas\u001b[39;00m NamedShape,\n\u001b[1;32m     46\u001b[0m   OutDBIdx \u001b[38;5;28;01mas\u001b[39;00m OutDBIdx,\n\u001b[1;32m     47\u001b[0m   OutputType \u001b[38;5;28;01mas\u001b[39;00m OutputType,\n\u001b[1;32m     48\u001b[0m   ParamDict \u001b[38;5;28;01mas\u001b[39;00m ParamDict,\n\u001b[1;32m     49\u001b[0m   Primitive \u001b[38;5;28;01mas\u001b[39;00m Primitive,\n\u001b[1;32m     50\u001b[0m   ShapedArray \u001b[38;5;28;01mas\u001b[39;00m ShapedArray,\n\u001b[1;32m     51\u001b[0m   Sublevel \u001b[38;5;28;01mas\u001b[39;00m Sublevel,\n\u001b[1;32m     52\u001b[0m   TRACER_LEAK_DEBUGGER_WARNING \u001b[38;5;28;01mas\u001b[39;00m TRACER_LEAK_DEBUGGER_WARNING,\n\u001b[1;32m     53\u001b[0m   ThreadLocalState \u001b[38;5;28;01mas\u001b[39;00m ThreadLocalState,\n\u001b[1;32m     54\u001b[0m   Token \u001b[38;5;28;01mas\u001b[39;00m Token,\n\u001b[1;32m     55\u001b[0m   Trace \u001b[38;5;28;01mas\u001b[39;00m Trace,\n\u001b[1;32m     56\u001b[0m   TraceStack \u001b[38;5;28;01mas\u001b[39;00m TraceStack,\n\u001b[1;32m     57\u001b[0m   TraceState \u001b[38;5;28;01mas\u001b[39;00m TraceState,\n\u001b[1;32m     58\u001b[0m   Tracer \u001b[38;5;28;01mas\u001b[39;00m Tracer,\n\u001b[1;32m     59\u001b[0m   UnshapedArray \u001b[38;5;28;01mas\u001b[39;00m UnshapedArray,\n\u001b[1;32m     60\u001b[0m   Value \u001b[38;5;28;01mas\u001b[39;00m Value,\n\u001b[1;32m     61\u001b[0m   Var \u001b[38;5;28;01mas\u001b[39;00m Var,\n\u001b[1;32m     62\u001b[0m   abstract_token \u001b[38;5;28;01mas\u001b[39;00m abstract_token,\n\u001b[1;32m     63\u001b[0m   apply_todos \u001b[38;5;28;01mas\u001b[39;00m apply_todos,\n\u001b[1;32m     64\u001b[0m   as_named_shape \u001b[38;5;28;01mas\u001b[39;00m as_named_shape,\n\u001b[1;32m     65\u001b[0m   aval_mapping_handlers \u001b[38;5;28;01mas\u001b[39;00m aval_mapping_handlers,\n\u001b[1;32m     66\u001b[0m   axis_frame \u001b[38;5;28;01mas\u001b[39;00m axis_frame,\n\u001b[1;32m     67\u001b[0m   call \u001b[38;5;28;01mas\u001b[39;00m call,\n\u001b[1;32m     68\u001b[0m   call_bind_with_continuation \u001b[38;5;28;01mas\u001b[39;00m call_bind_with_continuation,\n\u001b[1;32m     69\u001b[0m   call_impl \u001b[38;5;28;01mas\u001b[39;00m call_impl,\n\u001b[1;32m     70\u001b[0m   call_p \u001b[38;5;28;01mas\u001b[39;00m call_p,\n\u001b[1;32m     71\u001b[0m   canonicalize_shape \u001b[38;5;28;01mas\u001b[39;00m _deprecated_canonicalize_shape,\n\u001b[1;32m     72\u001b[0m   check_eqn \u001b[38;5;28;01mas\u001b[39;00m check_eqn,\n\u001b[1;32m     73\u001b[0m   check_jaxpr \u001b[38;5;28;01mas\u001b[39;00m check_jaxpr,\n\u001b[1;32m     74\u001b[0m   check_type \u001b[38;5;28;01mas\u001b[39;00m check_type,\n\u001b[1;32m     75\u001b[0m   check_valid_jaxtype \u001b[38;5;28;01mas\u001b[39;00m check_valid_jaxtype,\n\u001b[1;32m     76\u001b[0m   closed_call_p \u001b[38;5;28;01mas\u001b[39;00m closed_call_p,\n\u001b[1;32m     77\u001b[0m   concrete_aval \u001b[38;5;28;01mas\u001b[39;00m concrete_aval,\n\u001b[1;32m     78\u001b[0m   concrete_or_error \u001b[38;5;28;01mas\u001b[39;00m concrete_or_error,\n\u001b[1;32m     79\u001b[0m   concretization_function_error \u001b[38;5;28;01mas\u001b[39;00m concretization_function_error,\n\u001b[1;32m     80\u001b[0m   cur_sublevel \u001b[38;5;28;01mas\u001b[39;00m cur_sublevel,\n\u001b[1;32m     81\u001b[0m   custom_typechecks \u001b[38;5;28;01mas\u001b[39;00m custom_typechecks,\n\u001b[1;32m     82\u001b[0m   dedup_referents \u001b[38;5;28;01mas\u001b[39;00m dedup_referents,\n\u001b[1;32m     83\u001b[0m   definitely_equal \u001b[38;5;28;01mas\u001b[39;00m _deprecated_definitely_equal,\n\u001b[1;32m     84\u001b[0m   dimension_as_value \u001b[38;5;28;01mas\u001b[39;00m _deprecated_dimension_as_value,\n\u001b[1;32m     85\u001b[0m   do_subst_axis_names_jaxpr \u001b[38;5;28;01mas\u001b[39;00m do_subst_axis_names_jaxpr,\n\u001b[1;32m     86\u001b[0m   ensure_compile_time_eval \u001b[38;5;28;01mas\u001b[39;00m ensure_compile_time_eval,\n\u001b[1;32m     87\u001b[0m   escaped_tracer_error \u001b[38;5;28;01mas\u001b[39;00m escaped_tracer_error,\n\u001b[1;32m     88\u001b[0m   eval_context \u001b[38;5;28;01mas\u001b[39;00m eval_context,\n\u001b[1;32m     89\u001b[0m   eval_jaxpr \u001b[38;5;28;01mas\u001b[39;00m eval_jaxpr,\n\u001b[1;32m     90\u001b[0m   extend_axis_env \u001b[38;5;28;01mas\u001b[39;00m extend_axis_env,\n\u001b[1;32m     91\u001b[0m   extend_axis_env_nd \u001b[38;5;28;01mas\u001b[39;00m extend_axis_env_nd,\n\u001b[1;32m     92\u001b[0m   find_top_trace \u001b[38;5;28;01mas\u001b[39;00m find_top_trace,\n\u001b[1;32m     93\u001b[0m   full_lower \u001b[38;5;28;01mas\u001b[39;00m full_lower,\n\u001b[1;32m     94\u001b[0m   gensym \u001b[38;5;28;01mas\u001b[39;00m gensym,\n\u001b[1;32m     95\u001b[0m   get_aval \u001b[38;5;28;01mas\u001b[39;00m get_aval,\n\u001b[1;32m     96\u001b[0m   get_referent \u001b[38;5;28;01mas\u001b[39;00m get_referent,\n\u001b[1;32m     97\u001b[0m   is_constant_dim \u001b[38;5;28;01mas\u001b[39;00m is_constant_dim,\n\u001b[1;32m     98\u001b[0m   is_constant_shape \u001b[38;5;28;01mas\u001b[39;00m is_constant_shape,\n\u001b[1;32m     99\u001b[0m   jaxpr_as_fun \u001b[38;5;28;01mas\u001b[39;00m jaxpr_as_fun,\n\u001b[1;32m    100\u001b[0m   jaxpr_uses_outfeed \u001b[38;5;28;01mas\u001b[39;00m jaxpr_uses_outfeed,\n\u001b[1;32m    101\u001b[0m   jaxprs_in_params \u001b[38;5;28;01mas\u001b[39;00m jaxprs_in_params,\n\u001b[1;32m    102\u001b[0m   join_effects \u001b[38;5;28;01mas\u001b[39;00m join_effects,\n\u001b[1;32m    103\u001b[0m   join_named_shapes \u001b[38;5;28;01mas\u001b[39;00m join_named_shapes,\n\u001b[1;32m    104\u001b[0m   lattice_join \u001b[38;5;28;01mas\u001b[39;00m lattice_join,\n\u001b[1;32m    105\u001b[0m   leaked_tracer_error \u001b[38;5;28;01mas\u001b[39;00m leaked_tracer_error,\n\u001b[1;32m    106\u001b[0m   literalable_types \u001b[38;5;28;01mas\u001b[39;00m literalable_types,\n\u001b[1;32m    107\u001b[0m   map_bind \u001b[38;5;28;01mas\u001b[39;00m map_bind,\n\u001b[1;32m    108\u001b[0m   map_bind_with_continuation \u001b[38;5;28;01mas\u001b[39;00m map_bind_with_continuation,\n\u001b[1;32m    109\u001b[0m   mapped_aval \u001b[38;5;28;01mas\u001b[39;00m mapped_aval,\n\u001b[1;32m    110\u001b[0m   maybe_find_leaked_tracers \u001b[38;5;28;01mas\u001b[39;00m maybe_find_leaked_tracers,\n\u001b[1;32m    111\u001b[0m   max_dim \u001b[38;5;28;01mas\u001b[39;00m max_dim,\n\u001b[1;32m    112\u001b[0m   min_dim \u001b[38;5;28;01mas\u001b[39;00m min_dim,\n\u001b[1;32m    113\u001b[0m   new_base_main \u001b[38;5;28;01mas\u001b[39;00m new_base_main,\n\u001b[1;32m    114\u001b[0m   new_jaxpr_eqn \u001b[38;5;28;01mas\u001b[39;00m new_jaxpr_eqn,\n\u001b[1;32m    115\u001b[0m   new_main \u001b[38;5;28;01mas\u001b[39;00m new_main,\n\u001b[1;32m    116\u001b[0m   new_sublevel \u001b[38;5;28;01mas\u001b[39;00m new_sublevel,\n\u001b[1;32m    117\u001b[0m   no_axis_name \u001b[38;5;28;01mas\u001b[39;00m no_axis_name,\n\u001b[1;32m    118\u001b[0m   no_effects \u001b[38;5;28;01mas\u001b[39;00m no_effects,\n\u001b[1;32m    119\u001b[0m   non_negative_dim \u001b[38;5;28;01mas\u001b[39;00m _deprecated_non_negative_dim,\n\u001b[1;32m    120\u001b[0m   outfeed_primitives \u001b[38;5;28;01mas\u001b[39;00m outfeed_primitives,\n\u001b[1;32m    121\u001b[0m   pp_aval \u001b[38;5;28;01mas\u001b[39;00m pp_aval,\n\u001b[1;32m    122\u001b[0m   pp_eqn \u001b[38;5;28;01mas\u001b[39;00m pp_eqn,\n\u001b[1;32m    123\u001b[0m   pp_eqn_rules \u001b[38;5;28;01mas\u001b[39;00m pp_eqn_rules,\n\u001b[1;32m    124\u001b[0m   pp_eqns \u001b[38;5;28;01mas\u001b[39;00m pp_eqns,\n\u001b[1;32m    125\u001b[0m   pp_jaxpr \u001b[38;5;28;01mas\u001b[39;00m pp_jaxpr,\n\u001b[1;32m    126\u001b[0m   pp_jaxpr_eqn_range \u001b[38;5;28;01mas\u001b[39;00m pp_jaxpr_eqn_range,\n\u001b[1;32m    127\u001b[0m   pp_jaxpr_skeleton \u001b[38;5;28;01mas\u001b[39;00m pp_jaxpr_skeleton,\n\u001b[1;32m    128\u001b[0m   pp_jaxprs \u001b[38;5;28;01mas\u001b[39;00m pp_jaxprs,\n\u001b[1;32m    129\u001b[0m   pp_kv_pair \u001b[38;5;28;01mas\u001b[39;00m pp_kv_pair,\n\u001b[1;32m    130\u001b[0m   pp_kv_pairs \u001b[38;5;28;01mas\u001b[39;00m pp_kv_pairs,\n\u001b[1;32m    131\u001b[0m   pp_var \u001b[38;5;28;01mas\u001b[39;00m pp_var,\n\u001b[1;32m    132\u001b[0m   pp_vars \u001b[38;5;28;01mas\u001b[39;00m pp_vars,\n\u001b[1;32m    133\u001b[0m   primal_dtype_to_tangent_dtype \u001b[38;5;28;01mas\u001b[39;00m primal_dtype_to_tangent_dtype,\n\u001b[1;32m    134\u001b[0m   primitive_uses_outfeed \u001b[38;5;28;01mas\u001b[39;00m primitive_uses_outfeed,\n\u001b[1;32m    135\u001b[0m   process_env_traces_call \u001b[38;5;28;01mas\u001b[39;00m process_env_traces_call,\n\u001b[1;32m    136\u001b[0m   process_env_traces_map \u001b[38;5;28;01mas\u001b[39;00m process_env_traces_map,\n\u001b[1;32m    137\u001b[0m   pytype_aval_mappings \u001b[38;5;28;01mas\u001b[39;00m pytype_aval_mappings,\n\u001b[1;32m    138\u001b[0m   raise_as_much_as_possible \u001b[38;5;28;01mas\u001b[39;00m raise_as_much_as_possible,\n\u001b[1;32m    139\u001b[0m   raise_to_shaped \u001b[38;5;28;01mas\u001b[39;00m raise_to_shaped,\n\u001b[1;32m    140\u001b[0m   raise_to_shaped_mappings \u001b[38;5;28;01mas\u001b[39;00m raise_to_shaped_mappings,\n\u001b[1;32m    141\u001b[0m   reset_trace_state \u001b[38;5;28;01mas\u001b[39;00m reset_trace_state,\n\u001b[1;32m    142\u001b[0m   stash_axis_env \u001b[38;5;28;01mas\u001b[39;00m stash_axis_env,\n\u001b[1;32m    143\u001b[0m   str_eqn_compact \u001b[38;5;28;01mas\u001b[39;00m str_eqn_compact,\n\u001b[1;32m    144\u001b[0m   subjaxprs \u001b[38;5;28;01mas\u001b[39;00m subjaxprs,\n\u001b[1;32m    145\u001b[0m   subst_axis_names \u001b[38;5;28;01mas\u001b[39;00m subst_axis_names,\n\u001b[1;32m    146\u001b[0m   subst_axis_names_eqn \u001b[38;5;28;01mas\u001b[39;00m subst_axis_names_eqn,\n\u001b[1;32m    147\u001b[0m   subst_axis_names_jaxpr \u001b[38;5;28;01mas\u001b[39;00m subst_axis_names_jaxpr,\n\u001b[1;32m    148\u001b[0m   subst_axis_names_var \u001b[38;5;28;01mas\u001b[39;00m subst_axis_names_var,\n\u001b[1;32m    149\u001b[0m   substitute_vars_in_output_ty \u001b[38;5;28;01mas\u001b[39;00m substitute_vars_in_output_ty,\n\u001b[1;32m    150\u001b[0m   thread_local_state \u001b[38;5;28;01mas\u001b[39;00m thread_local_state,\n\u001b[1;32m    151\u001b[0m   token \u001b[38;5;28;01mas\u001b[39;00m token,\n\u001b[1;32m    152\u001b[0m   trace_state_clean \u001b[38;5;28;01mas\u001b[39;00m trace_state_clean,\n\u001b[1;32m    153\u001b[0m   traverse_jaxpr_params \u001b[38;5;28;01mas\u001b[39;00m traverse_jaxpr_params,\n\u001b[1;32m    154\u001b[0m   typecheck \u001b[38;5;28;01mas\u001b[39;00m typecheck,\n\u001b[1;32m    155\u001b[0m   typecompat \u001b[38;5;28;01mas\u001b[39;00m typecompat,\n\u001b[1;32m    156\u001b[0m   typematch \u001b[38;5;28;01mas\u001b[39;00m typematch,\n\u001b[1;32m    157\u001b[0m   unmapped_aval \u001b[38;5;28;01mas\u001b[39;00m unmapped_aval,\n\u001b[1;32m    158\u001b[0m   used_axis_names \u001b[38;5;28;01mas\u001b[39;00m used_axis_names,\n\u001b[1;32m    159\u001b[0m   used_axis_names_jaxpr \u001b[38;5;28;01mas\u001b[39;00m used_axis_names_jaxpr,\n\u001b[1;32m    160\u001b[0m   valid_jaxtype \u001b[38;5;28;01mas\u001b[39;00m valid_jaxtype,\n\u001b[1;32m    161\u001b[0m )\n\u001b[1;32m    164\u001b[0m \u001b[38;5;28;01mfrom\u001b[39;00m \u001b[38;5;21;01mjax\u001b[39;00m\u001b[38;5;21;01m.\u001b[39;00m\u001b[38;5;21;01m_src\u001b[39;00m \u001b[38;5;28;01mimport\u001b[39;00m core \u001b[38;5;28;01mas\u001b[39;00m _src_core\n\u001b[1;32m    165\u001b[0m _deprecations \u001b[38;5;241m=\u001b[39m {\n\u001b[1;32m    166\u001b[0m     \u001b[38;5;66;03m# Added Oct 11, 2023:\u001b[39;00m\n\u001b[1;32m    167\u001b[0m     \u001b[38;5;124m\"\u001b[39m\u001b[38;5;124mDimSize\u001b[39m\u001b[38;5;124m\"\u001b[39m: (\n\u001b[0;32m   (...)\u001b[0m\n\u001b[1;32m    191\u001b[0m     ),\n\u001b[1;32m    192\u001b[0m }\n",
      "File \u001b[0;32m~/Documents/anomaly-detection/venv/lib/python3.12/site-packages/jax/_src/core.py:39\u001b[0m\n\u001b[1;32m     35\u001b[0m \u001b[38;5;28;01mfrom\u001b[39;00m \u001b[38;5;21;01mweakref\u001b[39;00m \u001b[38;5;28;01mimport\u001b[39;00m ref\n\u001b[1;32m     37\u001b[0m \u001b[38;5;28;01mimport\u001b[39;00m \u001b[38;5;21;01mnumpy\u001b[39;00m \u001b[38;5;28;01mas\u001b[39;00m \u001b[38;5;21;01mnp\u001b[39;00m\n\u001b[0;32m---> 39\u001b[0m \u001b[38;5;28;01mfrom\u001b[39;00m \u001b[38;5;21;01mjax\u001b[39;00m\u001b[38;5;21;01m.\u001b[39;00m\u001b[38;5;21;01m_src\u001b[39;00m \u001b[38;5;28;01mimport\u001b[39;00m dtypes\n\u001b[1;32m     40\u001b[0m \u001b[38;5;28;01mfrom\u001b[39;00m \u001b[38;5;21;01mjax\u001b[39;00m\u001b[38;5;21;01m.\u001b[39;00m\u001b[38;5;21;01m_src\u001b[39;00m \u001b[38;5;28;01mimport\u001b[39;00m config\n\u001b[1;32m     41\u001b[0m \u001b[38;5;28;01mfrom\u001b[39;00m \u001b[38;5;21;01mjax\u001b[39;00m\u001b[38;5;21;01m.\u001b[39;00m\u001b[38;5;21;01m_src\u001b[39;00m \u001b[38;5;28;01mimport\u001b[39;00m effects\n",
      "File \u001b[0;32m~/Documents/anomaly-detection/venv/lib/python3.12/site-packages/jax/_src/dtypes.py:33\u001b[0m\n\u001b[1;32m     30\u001b[0m \u001b[38;5;28;01mimport\u001b[39;00m \u001b[38;5;21;01mml_dtypes\u001b[39;00m\n\u001b[1;32m     31\u001b[0m \u001b[38;5;28;01mimport\u001b[39;00m \u001b[38;5;21;01mnumpy\u001b[39;00m \u001b[38;5;28;01mas\u001b[39;00m \u001b[38;5;21;01mnp\u001b[39;00m\n\u001b[0;32m---> 33\u001b[0m \u001b[38;5;28;01mfrom\u001b[39;00m \u001b[38;5;21;01mjax\u001b[39;00m\u001b[38;5;21;01m.\u001b[39;00m\u001b[38;5;21;01m_src\u001b[39;00m \u001b[38;5;28;01mimport\u001b[39;00m config\n\u001b[1;32m     34\u001b[0m \u001b[38;5;28;01mfrom\u001b[39;00m \u001b[38;5;21;01mjax\u001b[39;00m\u001b[38;5;21;01m.\u001b[39;00m\u001b[38;5;21;01m_src\u001b[39;00m\u001b[38;5;21;01m.\u001b[39;00m\u001b[38;5;21;01mtyping\u001b[39;00m \u001b[38;5;28;01mimport\u001b[39;00m DType, DTypeLike\n\u001b[1;32m     35\u001b[0m \u001b[38;5;28;01mfrom\u001b[39;00m \u001b[38;5;21;01mjax\u001b[39;00m\u001b[38;5;21;01m.\u001b[39;00m\u001b[38;5;21;01m_src\u001b[39;00m\u001b[38;5;21;01m.\u001b[39;00m\u001b[38;5;21;01mutil\u001b[39;00m \u001b[38;5;28;01mimport\u001b[39;00m set_module, StrictABC\n",
      "File \u001b[0;32m~/Documents/anomaly-detection/venv/lib/python3.12/site-packages/jax/_src/config.py:27\u001b[0m\n\u001b[1;32m     24\u001b[0m \u001b[38;5;28;01mimport\u001b[39;00m \u001b[38;5;21;01mthreading\u001b[39;00m\n\u001b[1;32m     25\u001b[0m \u001b[38;5;28;01mfrom\u001b[39;00m \u001b[38;5;21;01mtyping\u001b[39;00m \u001b[38;5;28;01mimport\u001b[39;00m Any, Callable, Generic, NamedTuple, NoReturn, TypeVar, cast\n\u001b[0;32m---> 27\u001b[0m \u001b[38;5;28;01mfrom\u001b[39;00m \u001b[38;5;21;01mjax\u001b[39;00m\u001b[38;5;21;01m.\u001b[39;00m\u001b[38;5;21;01m_src\u001b[39;00m \u001b[38;5;28;01mimport\u001b[39;00m lib\n\u001b[1;32m     28\u001b[0m \u001b[38;5;28;01mfrom\u001b[39;00m \u001b[38;5;21;01mjax\u001b[39;00m\u001b[38;5;21;01m.\u001b[39;00m\u001b[38;5;21;01m_src\u001b[39;00m\u001b[38;5;21;01m.\u001b[39;00m\u001b[38;5;21;01mlib\u001b[39;00m \u001b[38;5;28;01mimport\u001b[39;00m jax_jit\n\u001b[1;32m     29\u001b[0m \u001b[38;5;28;01mfrom\u001b[39;00m \u001b[38;5;21;01mjax\u001b[39;00m\u001b[38;5;21;01m.\u001b[39;00m\u001b[38;5;21;01m_src\u001b[39;00m\u001b[38;5;21;01m.\u001b[39;00m\u001b[38;5;21;01mlib\u001b[39;00m \u001b[38;5;28;01mimport\u001b[39;00m transfer_guard_lib\n",
      "File \u001b[0;32m~/Documents/anomaly-detection/venv/lib/python3.12/site-packages/jax/_src/lib/__init__.py:76\u001b[0m\n\u001b[1;32m     71\u001b[0m   \u001b[38;5;28;01mreturn\u001b[39;00m _jaxlib_version\n\u001b[1;32m     74\u001b[0m version_str \u001b[38;5;241m=\u001b[39m jaxlib\u001b[38;5;241m.\u001b[39mversion\u001b[38;5;241m.\u001b[39m__version__\n\u001b[1;32m     75\u001b[0m version \u001b[38;5;241m=\u001b[39m check_jaxlib_version(\n\u001b[0;32m---> 76\u001b[0m   jax_version\u001b[38;5;241m=\u001b[39m\u001b[43mjax\u001b[49m\u001b[38;5;241;43m.\u001b[39;49m\u001b[43mversion\u001b[49m\u001b[38;5;241m.\u001b[39m__version__,\n\u001b[1;32m     77\u001b[0m   jaxlib_version\u001b[38;5;241m=\u001b[39mjaxlib\u001b[38;5;241m.\u001b[39mversion\u001b[38;5;241m.\u001b[39m__version__,\n\u001b[1;32m     78\u001b[0m   minimum_jaxlib_version\u001b[38;5;241m=\u001b[39mjax\u001b[38;5;241m.\u001b[39mversion\u001b[38;5;241m.\u001b[39m_minimum_jaxlib_version)\n\u001b[1;32m     80\u001b[0m \u001b[38;5;66;03m# Before importing any C compiled modules from jaxlib, first import the CPU\u001b[39;00m\n\u001b[1;32m     81\u001b[0m \u001b[38;5;66;03m# feature guard module to verify that jaxlib was compiled in a way that only\u001b[39;00m\n\u001b[1;32m     82\u001b[0m \u001b[38;5;66;03m# uses instructions that are present on this machine.\u001b[39;00m\n\u001b[1;32m     83\u001b[0m \u001b[38;5;28;01mimport\u001b[39;00m \u001b[38;5;21;01mjaxlib\u001b[39;00m\u001b[38;5;21;01m.\u001b[39;00m\u001b[38;5;21;01mcpu_feature_guard\u001b[39;00m \u001b[38;5;28;01mas\u001b[39;00m \u001b[38;5;21;01mcpu_feature_guard\u001b[39;00m\n",
      "\u001b[0;31mAttributeError\u001b[0m: partially initialized module 'jax' has no attribute 'version' (most likely due to a circular import)"
     ]
    }
   ],
   "source": [
    "import jax.numpy as jnp\n",
    "\n",
    "# Assuming `data` is your NumPy array or Python iterable\n",
    "jax_array = jnp.array(data)\n"
   ]
  },
  {
   "cell_type": "code",
   "execution_count": 5,
   "metadata": {},
   "outputs": [],
   "source": [
    "import numpy as np\n",
    "from numpy.lib.recfunctions import append_fields\n",
    "\n",
    "\n",
    "append_fields(data, 'label', np.zeros((data.shape[0])))"
   ]
  },
  {
   "cell_type": "code",
   "execution_count": 4,
   "metadata": {},
   "outputs": [
    {
     "name": "stdout",
     "output_type": "stream",
     "text": [
      "  % Total    % Received % Xferd  Average Speed   Time    Time     Time  Current\n",
      "                                 Dload  Upload   Total   Spent    Left  Speed\n",
      "  0     0    0     0    0     0      0      0 --:--:--  0:00:03 --:--:--     0Copying from <STDIN>...\n",
      "100  378M  100  378M    0     0   427k      0  0:15:06  0:15:06 --:--:--  922k  0  0:26:45  0:01:39  0:25:06  161k206k283k      0  0:22:49  0:04:35  0:18:14  276k/ [0 files][264.0 KiB/    0.0 B]                                                / [0 files][100.0 MiB/    0.0 B]      0.0 B/s                                   / [0 files][200.1 MiB/    0.0 B]      0.0 B/s                                   \n",
      "/ [1 files][    0.0 B/    0.0 B]      0.0 B/s                                   \n",
      "Operation completed over 1 objects.                                              \n"
     ]
    }
   ],
   "source": [
    "!curl https://cernbox.cern.ch/remote.php/dav/public-files/ry8Zv08AGIH4fWt/h5_files/QCD_multijet_events_200k.h5 | gsutil cp - gs://cuda-programming-406720/QCD_multijet_events_200k.h5"
   ]
  },
  {
   "cell_type": "code",
   "execution_count": 1,
   "metadata": {},
   "outputs": [
    {
     "name": "stdout",
     "output_type": "stream",
     "text": [
      "  % Total    % Received % Xferd  Average Speed   Time    Time     Time  Current\n",
      "                                 Dload  Upload   Total   Spent    Left  Speed\n",
      "  0     0    0     0    0     0      0      0 --:--:-- --:--:-- --:--:--     0Copying from <STDIN>...\n",
      " 42 1124M   42  475M    0     0   269k      0  1:11:18  0:30:07  0:41:11  433k   0      0 --:--:--  0:04:28 --:--:--     0:--:--  0:07:31 --:--:--     0--  0:10:00 --:--:--     0--:--  0:10:50 --:--:--     0     0-  0:16:06 --:--:--     0 0     0    0     0      0      0 --:--:--  0:17:39 --:--:--     03 1073k/ [0 files][264.0 KiB/    0.0 B]                                                  599k/ [0 files][100.0 MiB/    0.0 B]      0.0 B/s                                   / [0 files][200.1 MiB/    0.0 B]      0.0 B/s                                   04  732k 0:27:06  0:51:34 2280k/ [0 files][300.1 MiB/    0.0 B]      0.0 B/s                                   \n",
      "curl: (18) transfer closed with 680614096 bytes remaining to read\n",
      "/ [1 files][    0.0 B/    0.0 B]      0.0 B/s                                   \n",
      "Operation completed over 1 objects.                                              \n",
      "  % Total    % Received % Xferd  Average Speed   Time    Time     Time  Current\n",
      "                                 Dload  Upload   Total   Spent    Left  Speed\n",
      "  0     0    0     0    0     0      0      0 --:--:-- --:--:-- --:--:--     0Copying from <STDIN>...\n",
      "100  574M  100  574M    0     0   811k      0  0:12:04  0:12:04 --:--:-- 2242k  / [0 files][264.0 KiB/    0.0 B]                                                / [0 files][100.0 MiB/    0.0 B]      0.0 B/s                                     0:08:47 1394k/ [0 files][200.1 MiB/    0.0 B]      0.0 B/s                                   / [0 files][300.1 MiB/    0.0 B]      0.0 B/s                                     726k      0  0:13:30  0:09:33  0:03:57  605k/ [0 files][400.1 MiB/    0.0 B]      0.0 B/s                                   0:51 2815k\n",
      "/ [1 files][    0.0 B/    0.0 B]      0.0 B/s                                   \n",
      "Operation completed over 1 objects.                                              \n",
      "  % Total    % Received % Xferd  Average Speed   Time    Time     Time  Current\n",
      "                                 Dload  Upload   Total   Spent    Left  Speed\n",
      "  0     0    0     0    0     0      0      0 --:--:--  0:00:01 --:--:--     0Copying from <STDIN>...\n",
      "100  574M  100  574M    0     0   915k      0  0:10:43  0:10:43 --:--:-- 1089k  1628k/ [0 files][264.0 KiB/    0.0 B]                                                / [0 files][100.0 MiB/    0.0 B]      0.0 B/s                                   / [0 files][200.1 MiB/    0.0 B]      0.0 B/s                                   / [0 files][300.1 MiB/    0.0 B]      0.0 B/s                                   0:48  0:07:34  0:03:14  125k/ [0 files][400.1 MiB/    0.0 B]      0.0 B/s                                   \n",
      "/ [1 files][    0.0 B/    0.0 B]      0.0 B/s                                   \n",
      "Operation completed over 1 objects.                                              \n"
     ]
    }
   ],
   "source": [
    "!curl https://cernbox.cern.ch/remote.php/dav/public-files/ry8Zv08AGIH4fWt/h5_files/QCD_multijet_events_200k_pileup.h5 | gsutil cp - gs://cuda-programming-406720/QCD_LLP_samples/h5-files/QCD_multijet_events_200k_pileup.h5\n",
    "!curl https://cernbox.cern.ch/remote.php/dav/public-files/ry8Zv08AGIH4fWt/h5_files/500GeV_n3_events_100k_1mm_pileup.h5 | gsutil cp - gs://cuda-programming-406720/QCD_LLP_samples/h5-files/500GeV_n3_events_100k_1mm_pileup.h5\n",
    "!curl https://cernbox.cern.ch/remote.php/dav/public-files/ry8Zv08AGIH4fWt/h5_files/100GeV_n3_events_100k_1mm_pileup.h5 | gsutil cp - gs://cuda-programming-406720/QCD_LLP_samples/h5-files/100GeV_n3_events_100k_1mm_pileup.h5\n"
   ]
  },
  {
   "cell_type": "code",
   "execution_count": 1,
   "metadata": {},
   "outputs": [
    {
     "name": "stderr",
     "output_type": "stream",
     "text": [
      "/home/beria/Documents/anomaly-detection/venv/lib/python3.11/site-packages/tqdm/auto.py:21: TqdmWarning: IProgress not found. Please update jupyter and ipywidgets. See https://ipywidgets.readthedocs.io/en/stable/user_install.html\n",
      "  from .autonotebook import tqdm as notebook_tqdm\n"
     ]
    }
   ],
   "source": [
    "%load_ext autoreload\n",
    "%autoreload 2\n",
    "\n",
    "import matplotlib as mpl\n",
    "import matplotlib.pyplot as plt\n",
    "import torch\n",
    "import torch.nn as nn\n",
    "import torch.nn.functional as F\n",
    "import torch.optim as optim\n",
    "from torch.utils import data\n",
    "import numpy as np\n",
    "from sbi.analysis import pairplot\n",
    "from sbi.utils import BoxUniform\n",
    "from torch.distributions import Normal\n",
    "import torch\n",
    "\n",
    "import pickle\n",
    "\n",
    "import sys\n",
    "\n",
    "\n",
    "\n",
    "import os\n",
    "\n",
    "os.environ[\"KMP_DUPLICATE_LIB_OK\"] = \"True\"\n",
    "\n",
    "# import jupyter_black\n",
    "\n",
    "# jupyter_black.load()\n",
    "\n",
    "\n",
    "_ = torch.manual_seed(0)"
   ]
  },
  {
   "cell_type": "code",
   "execution_count": 2,
   "metadata": {},
   "outputs": [
    {
     "data": {
      "text/plain": [
       "tensor([[-0.6663, -0.0535,  0.0797, -0.1945,  0.0567],\n",
       "        [-0.7157, -0.1152, -0.9369, -0.1945,  0.0567],\n",
       "        [-0.7858, -0.1158, -0.9405, -0.1945,  0.0567],\n",
       "        ...,\n",
       "        [-0.9936, -0.2782, -0.9517, -0.1945, -0.2557],\n",
       "        [-0.9937, -0.4728,  0.7841, -0.1945, -0.1977],\n",
       "        [-0.9938,  0.2047,  0.5357, -0.1945, -0.0633]])"
      ]
     },
     "execution_count": 2,
     "metadata": {},
     "output_type": "execute_result"
    }
   ],
   "source": [
    "from preprocessing.dataset import dataset\n",
    "\n",
    "mydata = dataset(data_file='/home/beria/Documents/anomaly-detection/data-clf.csv')\n",
    "mydata.data"
   ]
  },
  {
   "cell_type": "code",
   "execution_count": 3,
   "metadata": {},
   "outputs": [],
   "source": [
    "mydata.data = (mydata.data - mydata.data.mean(dim=0)) / mydata.data.std(dim=0)"
   ]
  },
  {
   "cell_type": "code",
   "execution_count": 4,
   "metadata": {},
   "outputs": [
    {
     "data": {
      "text/plain": [
       "tensor([[ 1.2033e+01, -1.1467e-01,  1.3517e-01,  6.4417e-03,  1.4279e+00],\n",
       "        [ 1.0201e+01, -3.0398e-01, -1.6240e+00,  6.4417e-03,  1.4279e+00],\n",
       "        [ 7.6021e+00, -3.0566e-01, -1.6302e+00,  6.4417e-03,  1.4279e+00],\n",
       "        ...,\n",
       "        [-1.0682e-01, -8.0410e-01, -1.6496e+00,  6.4417e-03, -1.2058e+00],\n",
       "        [-1.0930e-01, -1.4009e+00,  1.3541e+00,  6.4417e-03, -7.1645e-01],\n",
       "        [-1.1162e-01,  6.7737e-01,  9.2425e-01,  6.4417e-03,  4.1600e-01]])"
      ]
     },
     "execution_count": 4,
     "metadata": {},
     "output_type": "execute_result"
    }
   ],
   "source": [
    "mydata.data"
   ]
  },
  {
   "cell_type": "code",
   "execution_count": 5,
   "metadata": {},
   "outputs": [],
   "source": [
    "from utils.mdn import MultivariateGaussianMDN as MultivariateGaussianMDN_diag\n",
    "from utils.mdn import mog_log_prob, mog_sample\n",
    "\n",
    "_ = torch.manual_seed(0)"
   ]
  },
  {
   "cell_type": "code",
   "execution_count": 6,
   "metadata": {},
   "outputs": [],
   "source": [
    "\n",
    "class MultivariateGaussianMDN(nn.Module):\n",
    "    \"\"\"\n",
    "    Multivariate Gaussian MDN with diagonal Covariance matrix.\n",
    "\n",
    "    For a documented version of this code, see:\n",
    "    https://github.com/mackelab/pyknos/blob/main/pyknos/mdn/mdn.py\n",
    "    \"\"\"\n",
    "\n",
    "    def __init__(\n",
    "        self,\n",
    "        features,\n",
    "        hidden_net,\n",
    "        num_components,\n",
    "        hidden_features,\n",
    "    ):\n",
    "        super().__init__()\n",
    "\n",
    "        self._features = features\n",
    "        self._num_components = num_components\n",
    "\n",
    "        self._hidden_net = hidden_net\n",
    "        self._logits_layer = nn.Linear(hidden_features, num_components)\n",
    "        self._means_layer = nn.Linear(hidden_features, num_components * features)\n",
    "        self._unconstrained_diagonal_layer = nn.Linear(\n",
    "            hidden_features, num_components * features\n",
    "        )\n",
    "\n",
    "    def get_mixture_components(self, context):\n",
    "        h = self._hidden_net(context)\n",
    "\n",
    "        # mixture coefficients in log space\n",
    "        logits = self._logits_layer(h)\n",
    "        logits = logits - torch.logsumexp(logits, dim=1).unsqueeze(1)  # normalization\n",
    "\n",
    "        # means\n",
    "        means = self._means_layer(h).view(-1, self._num_components, self._features)\n",
    "\n",
    "        # log variances for diagonal Cov matrix\n",
    "        # otherwise: Cholesky decomposition s.t. Cov = AA^T, A is lower triangular.\n",
    "        log_variances = self._unconstrained_diagonal_layer(h).view(\n",
    "            -1, self._num_components, self._features\n",
    "        )\n",
    "        variances = torch.exp(log_variances)\n",
    "\n",
    "        return logits, means, variances"
   ]
  },
  {
   "cell_type": "code",
   "execution_count": 7,
   "metadata": {},
   "outputs": [],
   "source": [
    "import math\n",
    "def mog_log_prob(theta, logits, means, variances):\n",
    "    \"\"\" Log probability of a mixture of Gaussians.\n",
    "        args:\n",
    "            theta: parameters\n",
    "            logits: log mixture coefficients\n",
    "            means: means of the Gaussians\n",
    "            variances: variances of the Gaussians\n",
    "        returns:\n",
    "            log probability of the mixture of Gaussians\"\"\"\n",
    "    _, _, theta_dim = means.size()\n",
    "    theta = theta.view(-1, 1, theta_dim)\n",
    "\n",
    "    log_cov_det = -0.5 * torch.log(torch.prod(variances, dim=2))\n",
    "\n",
    "    a = logits\n",
    "    b = -(theta_dim / 2.0) * math.log(2 * math.pi)\n",
    "    c = log_cov_det\n",
    "    d1 = theta.expand_as(means) - means\n",
    "    precisions = 1.0 / variances\n",
    "    exponent = torch.sum(d1 * precisions * d1, dim=2)\n",
    "    exponent = torch.tensor(-0.5) * exponent\n",
    "\n",
    "    return torch.logsumexp(a + b + c + exponent, dim=-1)\n",
    "\n",
    "\n",
    "def mog_sample(logits, means, variances):\n",
    "    \"\"\"Sample from a mixture of Gaussians.\n",
    "        args:\n",
    "            logits: log mixture coefficients\n",
    "            means: means of the Gaussians\n",
    "            variances: variances of the Gaussians   \n",
    "        returns:\n",
    "            samples from the mixture of Gaussians\"\"\"\n",
    "    \n",
    "    coefficients = F.softmax(logits, dim=-1)\n",
    "    choices = torch.multinomial(coefficients, num_samples=1, replacement=True).view(-1)\n",
    "    chosen_means = means[0, choices, :]  # 0 for first batch position\n",
    "    chosen_variances = variances[0, choices, :]\n",
    "\n",
    "    _, _, output_dim = means.shape\n",
    "    standard_normal_samples = torch.randn(output_dim)\n",
    "    zero_mean_samples = standard_normal_samples * torch.sqrt(chosen_variances)\n",
    "    samples = chosen_means + zero_mean_samples\n",
    "\n",
    "    return samples"
   ]
  },
  {
   "cell_type": "code",
   "execution_count": 8,
   "metadata": {},
   "outputs": [],
   "source": [
    "signal_data = mydata.data[mydata.labels==1]\n",
    "background_data = mydata.data[mydata.labels==0]"
   ]
  },
  {
   "cell_type": "markdown",
   "metadata": {},
   "source": [
    "# Signal distribution learning"
   ]
  },
  {
   "cell_type": "code",
   "execution_count": 9,
   "metadata": {},
   "outputs": [],
   "source": [
    "dataset = data.TensorDataset(signal_data, signal_data)\n",
    "train_loader = data.DataLoader(\n",
    "    dataset,\n",
    "    batch_size=50,\n",
    ")\n",
    "\n",
    "\n",
    "###########\n",
    "hidden_net = nn.Sequential(\n",
    "    nn.Linear(5, 30),\n",
    "    nn.ReLU(),\n",
    "    nn.Linear(30, 30),\n",
    "    nn.ReLU(),\n",
    "    nn.Linear(30, 30),\n",
    "    nn.ReLU(),\n",
    ")\n",
    "###########\n",
    "\n",
    "mdn_signal = MultivariateGaussianMDN(\n",
    "    features=5,\n",
    "    hidden_net=hidden_net,\n",
    "    num_components=5,\n",
    "    hidden_features=30,\n",
    ")\n",
    "opt = optim.Adam(mdn_signal.parameters(), lr=0.000001)\n",
    "for e in range(5):\n",
    "    for x_batch, theta_batch in train_loader:\n",
    "        opt.zero_grad()\n",
    "        logits, means, variances = mdn_signal.get_mixture_components(x_batch)\n",
    "        log_probs = mog_log_prob(theta_batch, logits, means, variances)\n",
    "        loss = -log_probs.sum()\n",
    "        loss.backward()\n",
    "        opt.step()"
   ]
  },
  {
   "cell_type": "code",
   "execution_count": 17,
   "metadata": {},
   "outputs": [
    {
     "data": {
      "text/plain": [
       "tensor([-57.1628, -46.2835, -30.2737,  ...,  -6.1329,  -5.7397,  -6.2218],\n",
       "       grad_fn=<LogsumexpBackward0>)"
      ]
     },
     "execution_count": 17,
     "metadata": {},
     "output_type": "execute_result"
    }
   ],
   "source": [
    "logits, means, variances = mdn_signal.get_mixture_components(mydata.data[mydata.labels==1])\n",
    "p = mog_log_prob(mydata.data[mydata.labels==1], logits, means, variances)\n",
    "p"
   ]
  },
  {
   "cell_type": "markdown",
   "metadata": {},
   "source": [
    "# Background distribution learning"
   ]
  },
  {
   "cell_type": "code",
   "execution_count": 10,
   "metadata": {},
   "outputs": [],
   "source": [
    "dataset = data.TensorDataset(background_data, background_data)\n",
    "train_loader = data.DataLoader(\n",
    "    dataset,\n",
    "    batch_size=50,\n",
    ")\n",
    "\n",
    "\n",
    "###########\n",
    "hidden_net = nn.Sequential(\n",
    "    nn.Linear(5, 30),\n",
    "    nn.ReLU(),\n",
    "    nn.Linear(30, 30),\n",
    "    nn.ReLU(),\n",
    "    nn.Linear(30, 30),\n",
    "    nn.ReLU(),\n",
    ")\n",
    "###########\n",
    "\n",
    "mdn_background = MultivariateGaussianMDN(\n",
    "    features=5,\n",
    "    hidden_net=hidden_net,\n",
    "    num_components=5,\n",
    "    hidden_features=30,\n",
    ")\n",
    "opt = optim.Adam(mdn_background.parameters(), lr=0.000001)\n",
    "for e in range(5):\n",
    "    for x_batch, theta_batch in train_loader:\n",
    "        opt.zero_grad()\n",
    "        logits, means, variances = mdn_background.get_mixture_components(x_batch)\n",
    "        log_probs = mog_log_prob(theta_batch, logits, means, variances)\n",
    "        loss = -log_probs.sum()\n",
    "        loss.backward()\n",
    "        opt.step()"
   ]
  },
  {
   "cell_type": "markdown",
   "metadata": {},
   "source": [
    "# Over-density estimation"
   ]
  },
  {
   "cell_type": "code",
   "execution_count": null,
   "metadata": {},
   "outputs": [],
   "source": [
    "import torch\n",
    "import torch.nn as nn\n",
    "import torch.optim as optim\n",
    "\n",
    "# Define the likelihood ratio (ground truth)\n",
    "\n",
    "def p_sig(x):\n",
    "    pass\n",
    "\n",
    "def p_bg(x):\n",
    "    pass\n",
    "\n",
    "def likelihood_ratio(X):\n",
    "    return p_sig(X) / p_bg(X)\n",
    "\n",
    "# Define the classifier model\n",
    "class LikelihoodRatioClassifier(nn.Module):\n",
    "    def __init__(self, input_size):\n",
    "        super(LikelihoodRatioClassifier, self).__init__()\n",
    "        self.fc = nn.Linear(input_size, 1)\n",
    "        self.sigmoid = nn.Sigmoid()\n",
    "\n",
    "    def forward(self, x):\n",
    "        x = self.fc(x)\n",
    "        return self.sigmoid(x)\n",
    "\n",
    "# Initialize the classifier\n",
    "input_size = mydata.data.shape[1]  # Assuming X is a 2D tensor\n",
    "classifier = LikelihoodRatioClassifier(input_size)\n",
    "\n",
    "# Define the loss function\n",
    "def custom_loss(y_pred, y_true, true_ratio):\n",
    "    likelihood_ratios = likelihood_ratio(mydata.data)\n",
    "    return nn.BCELoss()(y_pred, y_true) + torch.mean((1 / likelihood_ratios - 1 / true_ratio)**2)\n",
    "\n",
    "# Define the optimizer\n",
    "optimizer = optim.Adam(classifier.parameters(), lr=0.001)\n",
    "\n",
    "# Training loop\n",
    "num_epochs = 100\n",
    "for epoch in range(num_epochs):\n",
    "    optimizer.zero_grad()\n",
    "    y_pred = classifier(X)\n",
    "    loss = custom_loss(y_pred, y)\n",
    "    loss.backward()\n",
    "    optimizer.step()\n",
    "    print(f\"Epoch {epoch+1}, Loss: {loss.item()}\")\n",
    "\n",
    "# Use the trained classifier for anomaly detection\n",
    "classifier.eval()\n",
    "y_pred = classifier(X)\n"
   ]
  },
  {
   "cell_type": "code",
   "execution_count": null,
   "metadata": {},
   "outputs": [],
   "source": [
    "logits, means, variances = mdn.get_mixture_components(mydata.data)"
   ]
  },
  {
   "cell_type": "code",
   "execution_count": null,
   "metadata": {},
   "outputs": [],
   "source": [
    "p = mog_log_prob(mydata.data, logits, means, variances)"
   ]
  },
  {
   "cell_type": "code",
   "execution_count": null,
   "metadata": {},
   "outputs": [],
   "source": []
  }
 ],
 "metadata": {
  "kernelspec": {
   "display_name": "venv",
   "language": "python",
   "name": "python3"
  },
  "language_info": {
   "codemirror_mode": {
    "name": "ipython",
    "version": 3
   },
   "file_extension": ".py",
   "mimetype": "text/x-python",
   "name": "python",
   "nbconvert_exporter": "python",
   "pygments_lexer": "ipython3",
   "version": "3.12.3"
  }
 },
 "nbformat": 4,
 "nbformat_minor": 2
}
